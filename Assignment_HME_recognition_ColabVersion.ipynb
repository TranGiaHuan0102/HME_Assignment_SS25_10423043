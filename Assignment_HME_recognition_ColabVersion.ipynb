{
  "cells": [
    {
      "cell_type": "markdown",
      "metadata": {
        "id": "view-in-github",
        "colab_type": "text"
      },
      "source": [
        "<a href=\"https://colab.research.google.com/github/TranGiaHuan0102/HME_Assignment_SS25_10423043/blob/main/Assignment_HME_recognition_ColabVersion.ipynb\" target=\"_parent\"><img src=\"https://colab.research.google.com/assets/colab-badge.svg\" alt=\"Open In Colab\"/></a>"
      ]
    },
    {
      "cell_type": "code",
      "execution_count": null,
      "metadata": {
        "id": "kYHHkVe1r5_0"
      },
      "outputs": [],
      "source": [
        "# IMPORTANT: RUN THIS CELL IN ORDER TO IMPORT YOUR KAGGLE DATA SOURCES,\n",
        "# THEN FEEL FREE TO DELETE THIS CELL.\n",
        "# NOTE: THIS NOTEBOOK ENVIRONMENT DIFFERS FROM KAGGLE'S PYTHON\n",
        "# ENVIRONMENT SO THERE MAY BE MISSING LIBRARIES USED BY YOUR\n",
        "# NOTEBOOK.\n",
        "import kagglehub\n",
        "ntcuong2103_crohme2019_path = kagglehub.dataset_download('ntcuong2103/crohme2019')\n",
        "\n",
        "print('Data source import complete.')"
      ]
    },
    {
      "cell_type": "code",
      "execution_count": null,
      "metadata": {
        "id": "-v44sLWor5_1"
      },
      "outputs": [],
      "source": [
        "# If it is failed, run the above cell again to fix\n",
        "assert ntcuong2103_crohme2019_path == \"/kaggle/input/crohme2019\""
      ]
    },
    {
      "cell_type": "markdown",
      "metadata": {
        "id": "DEm0-zzfGomG"
      },
      "source": [
        "## **CROHME Temporal Sequence Classification (CROHME-CTC) Baseline**"
      ]
    },
    {
      "cell_type": "markdown",
      "metadata": {
        "id": "m_BtWPW5GomG"
      },
      "source": [
        "In this project, we will build and train a recurrent neural network (RNN) for translating handwritten mathematical expressions into sequence of symbols and relations based on Symbol Relation Tree and CROHME dataset.\n",
        "\n",
        "The model we'll be using is a simple RNN with a single layer of Bidirectional LSTM cells. We will use Connectionist Temporal Classification (CTC) loss to train the model.\n",
        "\n",
        "The model is trained on the CROHME dataset, which contains handwritten mathematical expressions in the form of Symbol Relation Trees. The dataset is preprocessed and converted into a sequence of symbols and relations, which is used as the input to the model.\n",
        "\n",
        "Your job is to feature engineer the input data and train the model to achieve the best performance possible. Additionally, consider implementing data augmentation techniques to enhance the training dataset."
      ]
    },
    {
      "cell_type": "markdown",
      "metadata": {
        "id": "neUWD9FsW3iU"
      },
      "source": [
        "Some features from the project:\n",
        "\n",
        "*   Public competition dataset: CROHME https://paperswithcode.com/dataset/crohme-2019\n",
        "*   Advance data preparation: time series feature extraction, collate function\n",
        "*   High level API of pytorch lightning\n",
        "*   Experiment tracking with Weight and Biases\n",
        "\n"
      ]
    },
    {
      "cell_type": "markdown",
      "metadata": {
        "id": "UjJVUXAGGomH"
      },
      "source": [
        "## Dependencies"
      ]
    },
    {
      "cell_type": "code",
      "execution_count": null,
      "metadata": {
        "id": "AAXuPzqmr5_5"
      },
      "outputs": [],
      "source": [
        "!pip -q install pytorch-lightning torchmetrics wandb"
      ]
    },
    {
      "cell_type": "code",
      "execution_count": null,
      "metadata": {
        "execution": {
          "iopub.execute_input": "2025-05-20T00:25:54.116882Z",
          "iopub.status.busy": "2025-05-20T00:25:54.116606Z",
          "iopub.status.idle": "2025-05-20T00:25:54.123208Z",
          "shell.execute_reply": "2025-05-20T00:25:54.122454Z",
          "shell.execute_reply.started": "2025-05-20T00:25:54.116861Z"
        },
        "id": "vrzqHX_hGomH",
        "trusted": true
      },
      "outputs": [],
      "source": [
        "import torch\n",
        "import torch.nn as nn\n",
        "import torch.nn.functional as F\n",
        "import torch.optim as optim\n",
        "from torch.utils.data import DataLoader, Dataset\n",
        "\n",
        "import numpy as np\n",
        "import pandas as pd\n",
        "import os\n",
        "\n",
        "import pytorch_lightning as pl\n",
        "from pytorch_lightning import Trainer\n",
        "from pytorch_lightning.callbacks import ModelCheckpoint, LearningRateMonitor\n",
        "from pytorch_lightning.loggers import TensorBoardLogger, WandbLogger\n",
        "import wandb\n",
        "\n",
        "import xml.etree.ElementTree as ET\n",
        "from torch.nn.utils.rnn import pad_sequence\n",
        "\n",
        "import matplotlib.pyplot as plt\n",
        "from collections.abc import Sequence\n",
        "from typing import Literal, Optional, Union\n",
        "\n",
        "import json"
      ]
    },
    {
      "cell_type": "markdown",
      "metadata": {
        "id": "Jz5_G7uZJWfC"
      },
      "source": [
        "> An example of inkml file, the points (x, y coords) are recorded in each trace (handwritten stroke).\n",
        "\n",
        "```\n",
        "<ink xmlns=\"http://www.w3.org/2003/InkML\">\n",
        "<traceFormat>\n",
        "<channel name=\"X\" type=\"decimal\"/>\n",
        "<channel name=\"Y\" type=\"decimal\"/>\n",
        "</traceFormat>\n",
        "...\n",
        "\n",
        "<trace id=\"0\">\n",
        "241 123, 240 123, 239 123, 238 123, 237 123, 236 123, 236 122, 237 122, 238 122, 240 122, 242 122, 244 122, 247 122, 251 121, 254 121, 257 121, 260 120, 262 120, 265 120, 266 120, 267 120, 268 120, 269 120, 268 120\n",
        "</trace>\n",
        "<trace id=\"1\">\n",
        "301 123, 300 124, 299 124, 298 124, 297 124, 296 124, 295 124, 294 124, 295 124, 296 124, 297 124, 298 124, 299 123, 301 123, 302 123, 303 123, 304 122, 305 122, 306 122, 307 122, 308 122, 310 122, 311 122, 314 122, 316 121, 317 121, 319 121, 321 121, 323 121, 328 120, 330 120, 332 120, 333 120, 335 120, 336 120, 344 119, 346 119, 348 119, 350 119, 352 119, 357 119, 358 119, 360 119, 362 119, 364 119, 365 119, 370 119, 372 119, 373 119, 374 119, 375 119, 377 119, 377 118, 376 118, 374 118, 372 118\n",
        "</trace>\n",
        "<trace id=\"2\">\n",
        "318 89, 319 89, 320 89, 321 88, 323 87, 324 86, 325 84, 326 83, 327 82, 328 80, 329 79, 330 77, 331 75, 332 74, 333 73, 333 72, 333 73, 333 75, 333 76, 333 78, 333 80, 332 81, 332 83, 332 85, 332 86, 332 88, 332 90, 332 92, 332 93, 333 95, 333 97, 333 98, 333 100, 333 101, 333 102, 333 103, 333 104, 333 103, 333 101, 332 99\n",
        "</trace>\n",
        "<trace id=\"3\">\n",
        "302 148, 301 148, 302 147, 302 146, 303 145, 304 144, 305 143, 306 142, 307 140, 308 139, 308 138, 308 137, 308 136, 308 137, 308 138, 309 139, 309 140, 309 141, 309 142, 309 144, 309 146, 309 147, 309 149, 309 151, 309 153, 309 155, 309 157, 310 159, 310 162, 310 164, 310 169, 310 171, 310 172, 310 174, 311 175, 311 179, 311 180, 311 181, 311 182, 311 181\n",
        "</trace>\n",
        "...\n",
        "\n",
        "</ink>\n",
        "\n",
        "```\n",
        "\n",
        "> An example of annotation file: left part is inkml file path, right part is the label (target) for that inkml file.\n",
        "\n",
        "```\n",
        "...\n",
        "crohme2019/test/UN19_1041_em_597.inkml\t- Right \\sqrt Inside 2\n",
        "crohme2019/test/UN19_1019_em_256.inkml\ta Right n Right y\n",
        "crohme2019/test/UN19_1033_em_474.inkml\tV Sub n Right - Right 1 NoRel = Right \\int Right d Sup n Right - Right 1 NoRel x Right \\sqrt Inside h\n",
        "\n",
        "...\n",
        "```\n",
        "\n",
        "> The label is a sequence of **symbols** and **spatial relations** between symbols (based on writing order).\n",
        "\n"
      ]
    },
    {
      "cell_type": "markdown",
      "metadata": {
        "id": "ZGmVmcPDGomI"
      },
      "source": [
        "## Task 1: Build Vocabulary\n",
        "\n",
        "Builds and manages a vocabulary for converting characters (tokens) to indices (encoding) and vice-versa (decoding). This is essential for processing text data in machine learning tasks, particularly for sequence-to-sequence models like those used in handwriting recognition or mathematical expression translation.\n",
        "\n",
        "In this project, the vocabulary is for encoding the target sequence (for example: \"- Right \\\\sqrt Inside 2\") into a sequence of indices ([5, 37, 74, 30, 10]). It is constructed from multiple annotation files (train, test, and validation sets) and includes a special blank character (this is for CTC loss). It supports encoding (tokens to indices) and decoding (indices to tokens) operations.\n",
        "\n",
        "\n",
        "> _You will need to build the `class Vocab` using the two functions provided. Also the vocabulary should be exported as a JSON file so that we can reuse it later in the dataset._\n",
        "\n",
        "***Input***: the path to the dataset files _(train, valid, and test)_.\n",
        "\n",
        "\n",
        "```python\n",
        "paths = [\n",
        "    \"dataset/crohme2019_train.txt\",\n",
        "    \"dataset/crohme2019_test.txt\",\n",
        "    \"dataset/crohme2019_valid.txt\",\n",
        "]\n",
        "```\n",
        "\n",
        "***Output***: the vocabulary.\n",
        "\n",
        "```python\n",
        "vocab = {\n",
        "    \"a\": 0,\n",
        "    \"b\": 1,\n",
        "    \"c\": 2,\n",
        "    ...\n",
        "}\n",
        "```"
      ]
    },
    {
      "cell_type": "code",
      "source": [
        "ROOT_DIR = \"/kaggle/input/crohme2019\" # Use this if using Google Colab\n",
        "#ROOT_DIR = \"/dataset\"  # Use this if clone this repo"
      ],
      "metadata": {
        "id": "wBp1HLgvMjH2"
      },
      "execution_count": null,
      "outputs": []
    },
    {
      "cell_type": "code",
      "execution_count": null,
      "metadata": {
        "id": "P74jzCZzr5_8"
      },
      "outputs": [],
      "source": [
        "paths = [\n",
        "    \"/kaggle/input/crohme2019/crohme2019_train.txt\",\n",
        "    \"/kaggle/input/crohme2019/crohme2019_test.txt\",\n",
        "    \"/kaggle/input/crohme2019/crohme2019_valid.txt\",\n",
        "]\n",
        "\n",
        "df = pd.read_csv(paths[1], sep=\"\\t\", header=None, names=[\"path\", \"label\"]).dropna().astype(str)\n",
        "\n",
        "df.head()"
      ]
    },
    {
      "cell_type": "code",
      "execution_count": null,
      "metadata": {
        "id": "W5WhCEyuGomI",
        "trusted": true
      },
      "outputs": [],
      "source": [
        "def get_unique_chars(path) -> set:\n",
        "    df = pd.read_csv(path, sep=\"\\t\", header=None, names=[\"path\", \"label\"]).dropna().astype(str)\n",
        "\n",
        "    res = set()\n",
        "\n",
        "    for i in df['label'].apply(lambda x: x.strip().split()):\n",
        "        res.update(i)\n",
        "    return res"
      ]
    },
    {
      "cell_type": "code",
      "execution_count": null,
      "metadata": {
        "id": "TdAF2N19r5_8"
      },
      "outputs": [],
      "source": [
        "unique_chars = get_unique_chars(paths[0])\n",
        "unique_chars"
      ]
    },
    {
      "cell_type": "markdown",
      "metadata": {
        "id": "9NoRw8ZUGomI"
      },
      "source": [
        "The vocabulary should be sorted by ascii table. The first character (index 0) must be blank (`''`)."
      ]
    },
    {
      "cell_type": "code",
      "execution_count": null,
      "metadata": {
        "id": "MSVwOtmpGomI",
        "trusted": true
      },
      "outputs": [],
      "source": [
        "def chr2idx(unique_chars: set) -> dict:\n",
        "    unique_chars.add('')\n",
        "    return {char: idx for idx, char in enumerate(sorted(unique_chars))}"
      ]
    },
    {
      "cell_type": "code",
      "execution_count": null,
      "metadata": {
        "id": "riVWfff5r5_9"
      },
      "outputs": [],
      "source": [
        "vocab = chr2idx(get_unique_chars(paths[0]))\n",
        "\n",
        "assert vocab[\"\"] == 0\n",
        "assert vocab[\"|\"] == 108\n",
        "assert vocab[\"\\\\pi\"] == 68\n",
        "assert vocab[\"\\\\exists\"] == 51\n",
        "assert len(vocab) == 109"
      ]
    },
    {
      "cell_type": "code",
      "execution_count": null,
      "metadata": {
        "id": "omyRuj9FGomJ",
        "trusted": true
      },
      "outputs": [],
      "source": [
        "class Vocab:\n",
        "    \"\"\"\n",
        "\n",
        "    Attributes:\n",
        "        paths (list): A list of file paths to the annotation files.\n",
        "        char2idx (dict): A dictionary mapping characters to their corresponding indices.  This is the primary vocabulary.\n",
        "        idx2char (dict): A reverse mapping from indices to characters, facilitating decoding.\n",
        "\n",
        "    Methods:\n",
        "        build_vocab(): Builds the vocabulary from the specified annotation files, sorting characters lexicographically and adding a blank character.\n",
        "        get_vocab(): Returns the character-to-index vocabulary.\n",
        "        save_vocab(path): Saves the vocabulary to a JSON file.\n",
        "        encode(tokens): Converts a list of tokens (characters) into a list of their corresponding indices.\n",
        "        decode(ids): Converts a list of indices back into a list of tokens (characters).\n",
        "    \"\"\"\n",
        "    def __init__(self, vocab_file=None):\n",
        "        self.char2idx = {}\n",
        "        if vocab_file is not None:\n",
        "            self.char2idx = json.load(open(vocab_file))\n",
        "        self.idx2char = {v: k for k, v in self.char2idx.items()}\n",
        "\n",
        "    def build_vocab(self, annotations) -> None:\n",
        "        def get_unique_chars(path) -> set:\n",
        "            df = pd.read_csv(path, sep=\"\\t\", header=None, names=[\"path\", \"label\"]).dropna().astype(str)\n",
        "\n",
        "            res = set()\n",
        "\n",
        "            for i in df['label'].apply(lambda x: x.strip().split()):\n",
        "                res.update(i)\n",
        "            return res\n",
        "\n",
        "        def chr2idx(unique_chars: set) -> dict:\n",
        "            unique_chars.add('')\n",
        "            return {char: idx for idx, char in enumerate(sorted(unique_chars))}\n",
        "        # TODO: build vocab from all annotation files\n",
        "        vocab = {}\n",
        "\n",
        "        # vet the annotations before generating vocab\n",
        "        try:\n",
        "            for a in annotations:\n",
        "                unique_chars = get_unique_chars(a)\n",
        "        except IndexError as e:\n",
        "            print(\"Bro forgot to check the annotations 💀💀💀\")\n",
        "            return\n",
        "        else:\n",
        "            vocab = chr2idx(unique_chars)\n",
        "\n",
        "        # assign vocab to the class\n",
        "        self.char2idx = vocab\n",
        "\n",
        "    def get_vocab(self) -> dict:  # getter\n",
        "        return self.char2idx\n",
        "\n",
        "    def save_vocab(self, path: str) -> None:  # save vocab to json file\n",
        "        with open(path, 'w') as f:\n",
        "            json.dump(self.char2idx, f)\n",
        "\n",
        "    def encode(self, tokens):\n",
        "        return [self.char2idx[token] for token in tokens]\n",
        "\n",
        "    def decode(self, ids):\n",
        "        return [self.idx2char[id] for id in ids]\n"
      ]
    },
    {
      "cell_type": "code",
      "execution_count": null,
      "metadata": {
        "id": "QYiEl3lur5_-"
      },
      "outputs": [],
      "source": [
        "# CHECKPOINT: build vocab from annotations\n",
        "annotations = [\n",
        "    \"/kaggle/input/crohme2019/crohme2019_train.txt\",\n",
        "    \"/kaggle/input/crohme2019/crohme2019_test.txt\",\n",
        "    \"/kaggle/input/crohme2019/crohme2019_valid.txt\",\n",
        "]\n",
        "\n",
        "\n",
        "vocab = Vocab()\n",
        "vocab.build_vocab(annotations)\n",
        "vocab.save_vocab('vocab.json')"
      ]
    },
    {
      "cell_type": "markdown",
      "metadata": {
        "id": "Uw6QUu6EGomJ"
      },
      "source": [
        "## Task 2: Build Dataset\n",
        "\n",
        "In this task, we will build a dataset class that will be used to load the dataset files _(train, valid, and test)_.\n",
        "\n",
        "The dataset class will also be used to preprocess the data by converting the characters in the data to integers using the vocabulary.\n",
        "\n",
        "> _Before going to this task, it is **highly recommended** to read this [Tutorial on creating Custom Dataset](https://pytorch.org/tutorials/beginner/basics/data_tutorial.html#creating-a-custom-dataset-for-your-files) with PyTorch._\n",
        ">\n",
        "> _You should have basic understanding of required methods in the Dataset class such as `__init__`, `__len__`, and `__getitem__`._\n",
        "\n",
        "\n",
        "***Input***: Dataset class should take the following arguments:.\n",
        "\n",
        "- `annotation`: the path to the dataset annotation *(`.txt`)*.\n",
        "- `root_dir`: the root directory of the dataset file.\n",
        "- `vocab`: the vocabulary.\n",
        "\n",
        "***Output***: the dataset class.\n",
        "\n",
        "> *Note: You can adjust the Dataset class base on your references.*\n"
      ]
    },
    {
      "cell_type": "markdown",
      "metadata": {
        "id": "PomjANK6GomJ"
      },
      "source": [
        "### Dataflow\n",
        "Below is a typical dataflow to train a model.\n",
        "```mermaid\n",
        "flowchart LR\n",
        "    A[Raw Data] --> |parse| B[Cleaned Data]\n",
        "    B --> |feature engineering| C[Dataset]\n",
        "    C --> |package| D[DataLoader]\n",
        "    D --> |load| E[Model]\n",
        "    E --> |predict| F[Output]\n",
        "    F --> |calculate| G[Loss]\n",
        "    G --> |backpropagate| E\n",
        "```"
      ]
    },
    {
      "cell_type": "markdown",
      "metadata": {
        "id": "r9zozRQ8GomJ"
      },
      "source": [
        "### Handling Inkml files\n",
        "\n",
        "We have an inkml file: `crohme2019/test/UN19_1041_em_597.inkml`\n",
        "\n",
        "Its label is `- Right \\sqrt Inside 2`\n",
        "\n",
        "Target would be: `[5, 37, 74, 30, 10]`, where the index here is the index of tokens (from a vocabulary)\n",
        "\n",
        "We provided you with class `Inkml` to handle the parsing and processing of the inkml files. The main method you will use is `getTraces()` which returns the traces of the inkml file.\n",
        "\n",
        "> _Inspect this class and understand how you should be working with this type of data._\n",
        "\n",
        "```python"
      ]
    },
    {
      "cell_type": "code",
      "execution_count": null,
      "metadata": {
        "id": "veRit1XW4MMz"
      },
      "outputs": [],
      "source": [
        "import xml.etree.ElementTree as ET\n",
        "import numpy as np\n",
        "import matplotlib.pyplot as plt\n",
        "from collections.abc import Sequence\n",
        "from typing import Literal, Optional, Union\n"
      ]
    },
    {
      "cell_type": "code",
      "execution_count": null,
      "metadata": {
        "id": "hkOSwWi0GomJ",
        "trusted": true
      },
      "outputs": [],
      "source": [
        "class Segment(object):\n",
        "    \"\"\"Class to reprsent a Segment compound of strokes (id) with an id and label.\"\"\"\n",
        "\n",
        "    __slots__ = (\"id\", \"label\", \"strId\")\n",
        "\n",
        "    def __init__(self, *args):\n",
        "        if len(args) == 3:\n",
        "            self.id = args[0]\n",
        "            self.label = args[1]\n",
        "            self.strId = args[2]\n",
        "        else:\n",
        "            self.id = \"none\"\n",
        "            self.label = \"\"\n",
        "            self.strId = set([])\n",
        "\n",
        "\n",
        "class Inkml(object):\n",
        "    \"\"\"Class to represent an INKML file with strokes, segmentation and labels\"\"\"\n",
        "\n",
        "    __slots__ = (\"fileName\", \"strokes\", \"strkOrder\", \"segments\", \"truth\", \"UI\")\n",
        "\n",
        "    NS = {\n",
        "        \"ns\": \"http://www.w3.org/2003/InkML\",\n",
        "        \"xml\": \"http://www.w3.org/XML/1998/namespace\",\n",
        "    }\n",
        "\n",
        "    def __init__(self, *args):\n",
        "        self.fileName = None\n",
        "        self.strokes = {}\n",
        "        self.strkOrder = []\n",
        "        self.segments = {}\n",
        "        self.truth = \"\"\n",
        "        self.UI = \"\"\n",
        "        if len(args) == 1:\n",
        "            self.fileName = args[0]\n",
        "            self.loadFromFile()\n",
        "\n",
        "    def fixNS(self, ns, att):\n",
        "        \"\"\"Build the right tag or element name with namespace\"\"\"\n",
        "        return \"{\" + Inkml.NS[ns] + \"}\" + att\n",
        "\n",
        "    def loadFromFile(self):\n",
        "        \"\"\"load the ink from an inkml file (strokes, segments, labels)\"\"\"\n",
        "        tree = ET.parse(self.fileName)\n",
        "        # # ET.register_namespace();\n",
        "        root = tree.getroot()\n",
        "\n",
        "        # look at all annotation tags\n",
        "        for info in root.findall(\"ns:annotation\", namespaces=Inkml.NS):\n",
        "            # check if current annotation tag has the attribute type\n",
        "            if \"type\" in info.attrib:\n",
        "                if info.attrib[\"type\"] == \"truth\":                          # if yes, check if the type attribute has value truth, if yes, assign the content of tag to truth\n",
        "                    self.truth = info.text.strip()                          # this is the overall label of the entire image\n",
        "                if info.attrib[\"type\"] == \"UI\":                             # then check if the type attribute has value UI, if yes, assign the content of tag to UI\n",
        "                    self.UI = info.text.strip()\n",
        "        # look at all trace tags\n",
        "        for strk in root.findall(\"ns:trace\", namespaces=Inkml.NS):\n",
        "            self.strokes[strk.attrib[\"id\"]] = strk.text.strip()             # self.strokes's ith entry is assgined the content of ith trace tag\n",
        "            self.strkOrder.append(strk.attrib[\"id\"])                        # self.strkOrder ith entry is i itself  (i is the ID number)\n",
        "\n",
        "        # look for first instance of a trace group tag that represents stroke groups (e.g., strokes that form a single character), assign it to segments\n",
        "        segments = root.find(\"ns:traceGroup\", namespaces=Inkml.NS)\n",
        "        if segments is None or len(segments) == 0:\n",
        "            return                                                          # return if segments has nothing (no trace group tags)\n",
        "\n",
        "        # loop through and find every child trace group tag within the outer trace group in segments (most trace groups have children nested within the,)\n",
        "        for seg in segments.iterfind(\"ns:traceGroup\", namespaces=Inkml.NS):\n",
        "            id = seg.attrib[self.fixNS(\"xml\", \"id\")]                        # grab the content of the xml:id attribute of every child trace group tag\n",
        "            label = seg.find(\"ns:annotation\", namespaces=Inkml.NS).text     # grab the content of the annotation tag below this child trace group tag (this is the label of every stroke group)\n",
        "\n",
        "            strkList = set([])\n",
        "\n",
        "            for t in seg.findall(\"ns:traceView\", namespaces=Inkml.NS):      # traceDataRef is a number that points to the stroke in self.strokes that corresponds to this stroke group\n",
        "                strkList.add(t.attrib[\"traceDataRef\"])                      # in the .inkml file, the first stroke group refers to id=0, which is the stroke responsible for the minus\n",
        "            self.segments[id] = Segment(id, label, strkList)\n",
        "\n",
        "    def getTraces(self, height=256):\n",
        "        # Extract every x,y coordinate pair of every stroke in self strokes, and put them in traces array\n",
        "        '''\n",
        "        for example, traces_array would look like:\n",
        "        [\n",
        "            [[460, 226], [468, 221], [470, 221], [473, 221], [475, 220], [478, 220], [481, 219], ...] <-- first trace,\n",
        "            [...]   <-- second trace,\n",
        "            [...]   <-- third trace\n",
        "        ]\n",
        "        '''\n",
        "\n",
        "        traces_array = [\n",
        "            np.array(\n",
        "                [p.strip().split()[:2] for p in self.strokes[id].split(\",\")], dtype=\"float\"\n",
        "            )\n",
        "            for id in self.strkOrder\n",
        "        ]\n",
        "\n",
        "        # Flatten traces_array into a singular 1d-array, across the x axis\n",
        "        '''\n",
        "        post concatenate, traces_array would look like this (1d-array):\n",
        "        [\n",
        "            [460, 226], [468, 221], [470, 221], [473, 221], [475, 220], [478, 220], [481, 219], ...\n",
        "        ]\n",
        "\n",
        "        .max(0) and min(0) to find the highest x and y coordinates ([481, 226] and [460, 219] in this case)\n",
        "        their difference is [21, 7], the second value (7) is the difference between max-y and min-y\n",
        "        '''\n",
        "\n",
        "        ratio = height / (\n",
        "            (\n",
        "                np.concatenate(traces_array, 0).max(0)\n",
        "                - np.concatenate(traces_array, 0).min(0)\n",
        "            )[1]\n",
        "            + 1e-6\n",
        "        )\n",
        "\n",
        "        # Scale y-axis to 256 pixels by multiplying each trace in traces_array by ratio (highest y value will be 256)\n",
        "        return [(trace * ratio).astype(int).tolist() for trace in traces_array]\n",
        "\n",
        "    def view(self):\n",
        "        plt.figure(figsize = (16, 4))\n",
        "        plt.axis(\"off\")\n",
        "        for trace in self.getTraces():\n",
        "            trace_arr = np.array(trace)\n",
        "            plt.plot(trace_arr[:, 0], -trace_arr[:, 1])  # invert y coordinate"
      ]
    },
    {
      "cell_type": "code",
      "execution_count": null,
      "metadata": {
        "id": "c3ofnZJ7GomJ",
        "trusted": true
      },
      "outputs": [],
      "source": [
        "inkml_path = '/kaggle/input/crohme2019/crohme2019/crohme2019/test/UN19_1041_em_597.inkml'\n",
        "ink = Inkml(inkml_path)\n",
        "ink.view()"
      ]
    },
    {
      "cell_type": "code",
      "execution_count": null,
      "metadata": {
        "id": "HuXgjl6mr5__"
      },
      "outputs": [],
      "source": [
        "# Display shapes of first 5 traces in one file\n",
        "traces = ink.getTraces() # list of trace, each trace is a list of points\n",
        "# traces[0]\n",
        "[np.array(trace).shape for trace in ink.getTraces()][:5]"
      ]
    },
    {
      "cell_type": "code",
      "execution_count": null,
      "metadata": {
        "id": "vZ1P3EfTr5__"
      },
      "outputs": [],
      "source": [
        "len(traces), traces[0][:60]"
      ]
    },
    {
      "cell_type": "markdown",
      "metadata": {
        "id": "G9dQJ7TTGomJ"
      },
      "source": [
        "### Build Dataset\n",
        "\n",
        "For calculating the Connectionist Temporal Classification (CTC) loss, read the [expected output](https://pytorch.org/docs/stable/generated/torch.nn.CTCLoss.html) of this loss function from PyTorch.\n",
        "\n",
        "> _Hint: focus on the shapes and the expected variables. (see code example for calculating loss)_\n",
        "> ```python\n",
        "> loss = ctc_loss(input_tensor, target_tensor, input_lengths, target_lengths)\n",
        "> ```\n",
        "\n",
        "**Base on the observation, how can we build a dataset class from the dataset files?**\n",
        "\n",
        "> Hints:\n",
        ">   - *Understand the big picture. (Dataflow)*\n",
        ">   - *What informations needed to calculate our Loss?*\n",
        ">   - *What should be returned in the `__getitem__` method?*\n",
        ">   - *The outputs should be of Tensor type*\n",
        "   \n",
        "***References from pytorch [tutorials](https://pytorch.org/tutorials/beginner/data_loading_tutorial.html)***\n",
        "\n",
        "`torch.utils.data.Dataset` is an abstract class representing a dataset. Your custom dataset should inherit `Dataset` and override the following methods:\n",
        "\n",
        "- `__len__` so that `len(dataset)` returns the size of the dataset.\n",
        "\n",
        "- `__getitem__` to support the indexing such that `dataset[i]` can be used to get ith sample.\n"
      ]
    },
    {
      "cell_type": "markdown",
      "metadata": {
        "id": "3ugfZokVGomK"
      },
      "source": [
        "### Feature representation\n",
        "\n",
        "In this task, we will convert the strokes into feature representations that can be used by the model.\n",
        "\n",
        "Initially, the `.getTraces()` method returns list of strokes, where each stroke is a list of (x, y) coordinates. Intuitively, we can use those coordinates as features. But if directly using the coordinates as features, the model will have a hard time learning the patterns.\n",
        "\n",
        "Instead, we can calculate the difference *(∆d)* between consecutive coordinates as features. This way, the model can learn the patterns more easily.\n",
        "\n",
        "$\\Delta_x = x_{i+1} - x_i$ and $\\Delta_y = y_{i+1} - y_i$\n",
        "\n",
        "The feature would then be normalized as\n",
        "\n",
        "($\\frac{\\Delta_x}{d}$ , $\\frac{\\Delta_y} {d}$), where $d = \\sqrt{\\Delta_x^2 + \\Delta_y^2}$\n",
        "\n",
        "**Pen-up and Pen-down**\n",
        "\n",
        "In the dataset, each stroke is separated by a pen-up event. We can use this information to separate the strokes.\n",
        "\n",
        "1. The pen is lifted from the paper (connecting the end of a stroke to the start of a stroke): $pen\\_up = 1$\n",
        "2. The pen is on the paper: $pen\\_up = 0$\n",
        "\n",
        "Then, our feature representation would be:\n",
        "($\\frac{\\Delta_x}{d}$ , $\\frac{\\Delta_y} {d}$, $d$, $pen\\_up$)\n",
        "\n",
        "\n",
        "```\n",
        "point 1: (x1, y1)\n",
        "point 2: (x2, y2)\n",
        "point 3: (x3, y3) <--- end of stroke #1\n",
        "point 4: (x4, y4) <--- start of stroke #2\n",
        "...\n",
        "point n: (xn, yn)\n",
        "```\n",
        "\n",
        "The feature representation will be:\n",
        "\n",
        "```\n",
        "f1 = ((x2 - x1) / d, (y2 - y1)/d, d, 0)\n",
        "f2 = ((x3 - x2) / d, (y3 - y2)/d, d, 0)\n",
        "f3 = ((x4 - x3) / d, (y4 - y3)/d, d, 1) <-- pen up\n",
        "...\n",
        "fn-1 = ((xn - xn-1) / d, (yn - yn-1)/d, d, 0)\n",
        "```"
      ]
    },
    {
      "cell_type": "markdown",
      "metadata": {
        "id": "_LJH9zHvGomK"
      },
      "source": [
        "#### **CHECK LIST**\n",
        "\n",
        "For each data sample, we will do the following steps\n",
        "- Combine all the strokes into a single stroke (N, 2)\n",
        "- Compute first order differences of x and y coordinates\n",
        "- Compute Euclidean distances between consecutive points\n",
        "- Remove any zero length consecutive points\n",
        "- Normalize the x and y coordinates by Euclidean distance\n",
        "- Add feature pen-up/pen-down\n",
        "\n",
        "> *Features of transformed data: (delta traces, distance, pen_up_down)*\n",
        "\n",
        "Label\n",
        "- Define label (list of indices of the words)\n",
        "\n",
        "Finally, we will convert the data and label to PyTorch tensors.\n",
        "- Convert data and label to PyTorch tensors"
      ]
    },
    {
      "cell_type": "code",
      "execution_count": null,
      "metadata": {
        "id": "Lyx5HT98GomK",
        "trusted": true
      },
      "outputs": [],
      "source": [
        "class InkmlDataset(Dataset):\n",
        "    def __init__(self, annotation, root_dir, vocab : Vocab):\n",
        "        \"\"\"\n",
        "        Arguments:\n",
        "            annotation (string): annotation file txt.\n",
        "            root_dir (string): directory holds the dataset.\n",
        "            vocab (set): of vocab.\n",
        "        \"\"\"\n",
        "        self.annotation = annotation\n",
        "        self.root_dir = root_dir\n",
        "        self.vocab = vocab\n",
        "\n",
        "        # load annotations and create self.inks and self.labels from the annotation file\n",
        "        df = pd.read_csv(annotation, sep=\"\\t\", header=None, names=[\"path\", \"label\"]).dropna().astype(str)\n",
        "\n",
        "        self.inks = [Inkml(f\"{root_dir}/crohme2019/{stroke_id}\") for stroke_id in df[\"path\"]]\n",
        "        self.labels = [label_id for label_id in df[\"label\"].apply(lambda x: x.strip().split())]\n",
        "\n",
        "    def __len__(self):\n",
        "        \"\"\"This code should return the number of samples in the dataset\"\"\"\n",
        "        return len(self.labels)\n",
        "\n",
        "    def __getitem__(self, idx):\n",
        "        def feature_extraction(traces):\n",
        "            trace_lengths = [len(trace) for trace in traces]   # For the first example, there are 3 traces. Altogether, they contribute n_points (306) coordinate pairs (strokes)\n",
        "            n_points = sum(trace_lengths)                      # total number of points\n",
        "            feature_length = n_points - 1                      # feature length = n_points - 1\n",
        "\n",
        "            # 1) pen-up feature\n",
        "            cumsum_trace_lengths = np.cumsum(trace_lengths)    # find the cummulative sum across 3 traces (start-end of 2 distinct traces is where liftup occurs)\n",
        "            pen_up_index = cumsum_trace_lengths - 1            # -1 because we start counting from 0\n",
        "\n",
        "            pen_up_feature = np.zeros(feature_length)          # initialize pen-up feature by a vector of all zeros (all strokes are continuous)\n",
        "            pen_up_feature[pen_up_index[:-1]] = 1              # except for the ones that mark the end and start of two distinct traces\n",
        "\n",
        "            # 2) delta_x, delta_y\n",
        "            # combine all the strokes into a single stroke (N, 2)\n",
        "            combined_trace = np.concatenate(traces, axis=0)             # combine every stroke into one big array of shape (306, 2), 306 coordinate pairs\n",
        "            deltas = combined_trace[1:] - combined_trace[:-1]           # (delta x, delta y) of shape (305, 2), one less since we're taking the difference\n",
        "\n",
        "            # 3) compute Euclidean distances between consecutive points\n",
        "            deltas_squared = deltas ** 2    # ( delta_x ^ 2, delta_y ^ 2)\n",
        "            euclidean_distances = np.sqrt(np.sum(deltas_squared, axis=1, keepdims=True)) # e_d = sqrt( delta_x ^ 2 + delta_y ^ 2),  e_d.shape = (305, 1)\n",
        "\n",
        "            # shape: deltas(305, 2), euclidean_distances(305,1), pen_up_feature(305,)\n",
        "            # shape: feature(305, 4) T = 305 (each timestep has 4 features, unrelated to C), N = 1 (collate_fn will allow for greater n)\n",
        "\n",
        "            # 4) merge all the features (delta_x, delta_y, d, pen_up)\n",
        "            feature = np.concatenate([deltas, euclidean_distances, pen_up_feature[:, np.newaxis]], axis=1)      # np.newaxis turns (305,) into (305, 1), needed for concat\n",
        "\n",
        "            # 5) remove any zero length consecutive points (eucledian_distance = 0)\n",
        "            feature_without_zeros = feature[np.where(feature[:, 2]  != 0)]                                      # spoiler: no useless feature for first example\n",
        "\n",
        "            # 6) normalize the delta_x and delta_y by Euclidean distance d\n",
        "            # (delta_x, delta_y, d, pen_up) ->  (delta_x/d, delta_y/d, d, pen_up)\n",
        "            # for some reason when taking a single column, shape is (305, ), use .newaxis to force it to (305, 1)\n",
        "            feature_without_zeros[:, :2] /= feature_without_zeros[:, 2][:, np.newaxis] # No ZeroDivision, crisis averted!\n",
        "            feature = feature_without_zeros\n",
        "            return feature\n",
        "\n",
        "        \"\"\"This code should return the idx-th sample in the dataset\"\"\"\n",
        "\n",
        "        ink = self.inks[idx]\n",
        "        label = self.labels[idx]\n",
        "\n",
        "        # Extract tensor_data\n",
        "        traces = ink.getTraces()\n",
        "        input_tensor = torch.tensor(feature_extraction(traces), dtype=torch.float32)\n",
        "        input_length = torch.tensor(len(input_tensor), dtype=torch.long)\n",
        "\n",
        "        # Extract label data\n",
        "        target_tensor = torch.tensor(self.vocab.encode(label), dtype=torch.long)\n",
        "        target_length = torch.tensor(len(target_tensor), dtype=torch.long)\n",
        "\n",
        "        return input_tensor, target_tensor, input_length, target_length\n",
        "\n",
        "\n"
      ]
    },
    {
      "cell_type": "code",
      "execution_count": null,
      "metadata": {
        "id": "eAc8gRB-r6AA"
      },
      "outputs": [],
      "source": [
        "# Testing dataset\n",
        "dataset = InkmlDataset(annotation=f\"{ROOT_DIR}/crohme2019_test.txt\", root_dir=ROOT_DIR, vocab=Vocab(\"vocab.json\"))\n",
        "input_tensor, target_tensor, input_length, target_length = dataset[0]\n",
        "\n",
        "target_length"
      ]
    },
    {
      "cell_type": "markdown",
      "metadata": {
        "id": "O3GGK6yRGomK"
      },
      "source": [
        "## Task 3: Build Lightning Data Module via Dataloader\n",
        "\n",
        "Revise [this tutorial](https://pytorch.org/tutorials/beginner/basics/data_tutorial.html#preparing-your-data-for-training-with-dataloaders) to see how you can prepare your data for training with DataLoader.\n",
        "\n",
        "Then refer to this [documentation](https://pytorch.org/docs/stable/data.html#loading-batched-and-non-batched-data) to understand how DataLoader in PyTorch loads Batched or Non-Batched data.\n",
        "\n",
        "> **TASK:** Write the dataloader with custom collate function to pad the input and target sequence\n",
        "\n",
        "For a better understanding of the importance of handling variable-length sequences in deep learning models, it is crucial to format and pad the data appropriately to ensure consistency during training. Learn more about this topic [here](https://plainenglish.io/blog/understanding-collate-fn-in-pytorch-f9d1742647d3).\n",
        "\n",
        "> _**Hint 1**: use `torch.nn.utils.rnn.pad_sequence` to pad the input and target sequences. Read more about this function [here](https://pytorch.org/docs/stable/generated/torch.nn.utils.rnn.pad_sequence.html)._\n",
        "\n",
        "> _**Hint 2**: read Example 3 from this [tutorial](https://www.programiz.com/python-programming/methods/built-in/zip) to unpack data using `zip()`._"
      ]
    },
    {
      "cell_type": "code",
      "execution_count": null,
      "metadata": {
        "id": "MsUUX0j0GomK",
        "trusted": true
      },
      "outputs": [],
      "source": [
        "def collate_fn(batch):\n",
        "    # Unpack the batch into separate lists  (for the first 2 samples)\n",
        "    input_tensors = [sample[0] for sample in batch]\n",
        "    label_tensors = [sample[1] for sample in batch]        # the 2nd sample has greater length (567)\n",
        "    input_lens = [sample[2] for sample in batch]\n",
        "    label_lens = [sample[3] for sample in batch]\n",
        "\n",
        "    # Padding with zero\n",
        "    padded_features = pad_sequence(input_tensors, batch_first=True, padding_value=0)   # of shape (B=2, T=567, *= 4) (batch_size=2, longest_tensor_length=567, num_dim_of_tensor=4)\n",
        "    padded_labels = pad_sequence(label_tensors, batch_first=True, padding_value=0)     # of shape (B=2, T=35, *=1)\n",
        "\n",
        "    # Stack input_lens\n",
        "    input_lens = torch.stack(input_lens)\n",
        "    label_lens = torch.stack(label_lens)\n",
        "\n",
        "\n",
        "    # features, labels, input_lens, label_lens should be torch.tensor\n",
        "    return padded_features, padded_labels, input_lens, label_lens"
      ]
    },
    {
      "cell_type": "code",
      "execution_count": null,
      "metadata": {
        "id": "_wgoorR7r6AB"
      },
      "outputs": [],
      "source": [
        "dataset = InkmlDataset(annotation=f\"{ROOT_DIR}/crohme2019_test.txt\", root_dir=ROOT_DIR, vocab=Vocab(\"vocab.json\"))\n",
        "features, labels, input_lens, label_lens = collate_fn([dataset[0], dataset[1]])\n",
        "\n",
        "import numpy.testing as npt\n",
        "\n",
        "assert type(input_lens) == torch.Tensor\n",
        "assert type(label_lens) == torch.Tensor"
      ]
    },
    {
      "cell_type": "markdown",
      "metadata": {
        "id": "HqdtEV0FGomK"
      },
      "source": [
        "> **TASK:** implement InkmlDataset_PL Lightning Datamodule"
      ]
    },
    {
      "cell_type": "code",
      "execution_count": null,
      "metadata": {
        "id": "7lVgTU25GomK",
        "trusted": true
      },
      "outputs": [],
      "source": [
        "class InkmlDataset_PL(pl.LightningDataModule):\n",
        "    \"\"\"\n",
        "    PyTorch Lightning data module for handling the INKML dataset.\n",
        "    \"\"\"\n",
        "\n",
        "    def __init__(\n",
        "        self,\n",
        "        batch_size: int = 10,\n",
        "        workers: int = 5,\n",
        "        train_data: str = \"\",\n",
        "        val_data: str = \"\",\n",
        "        test_data: str = \"\",\n",
        "        root_dir: str = ROOT_DIR,\n",
        "        vocab_file='vocab.json',\n",
        "    ):\n",
        "        super().__init__()\n",
        "        self.batch_size = batch_size\n",
        "        self.workers = workers\n",
        "        self.train_data = train_data\n",
        "        self.val_data = val_data\n",
        "        self.test_data = test_data\n",
        "        self.root_dir = root_dir\n",
        "        self.vocab = Vocab(vocab_file)\n",
        "\n",
        "    def setup(self, stage=None):\n",
        "        if stage == \"fit\" or stage is None:\n",
        "            self.train_dataset = InkmlDataset(self.train_data, root_dir=self.root_dir, vocab=self.vocab)\n",
        "            self.val_dataset = InkmlDataset(self.val_data, root_dir=self.root_dir, vocab=self.vocab)\n",
        "        if stage == \"val\" or stage is None:\n",
        "            self.val_dataset = InkmlDataset(self.val_data, root_dir=self.root_dir, vocab=self.vocab)\n",
        "        if stage == \"test\" or stage is None:\n",
        "            self.test_dataset = InkmlDataset(self.test_data, root_dir=self.root_dir, vocab=self.vocab)\n",
        "\n",
        "    @staticmethod\n",
        "    def custom_collate_fn(batch):\n",
        "        # Unpack the batch into separate lists  (example: for the first 2 samples)\n",
        "        input_tensors = [sample[0] for sample in batch]\n",
        "        label_tensors = [sample[1] for sample in batch]        # the 2nd sample has greater length (567)\n",
        "        input_lens = [sample[2] for sample in batch]\n",
        "        label_lens = [sample[3] for sample in batch]\n",
        "\n",
        "        # Padding with zero\n",
        "        padded_features = pad_sequence(input_tensors, batch_first=True, padding_value=0)   # of shape (B=2, T=567, *= 4) (batch_size=10, longest_tensor_length=567, num_dim_of_tensor=4)\n",
        "        padded_labels = pad_sequence(label_tensors, batch_first=True, padding_value=0)     # of shape (B=2, T=35, *=1)\n",
        "\n",
        "        # Stack input_lens\n",
        "        input_lens = torch.stack(input_lens)\n",
        "        label_lens = torch.stack(label_lens)\n",
        "\n",
        "        # tuple of four torch tensors\n",
        "        return padded_features, padded_labels, input_lens, label_lens\n",
        "\n",
        "    def train_dataloader(self):\n",
        "        return DataLoader(\n",
        "            self.train_dataset,\n",
        "            batch_size=self.batch_size,\n",
        "            num_workers=self.workers,\n",
        "            collate_fn=self.custom_collate_fn,\n",
        "            shuffle = True,\n",
        "        )\n",
        "\n",
        "    def val_dataloader(self):\n",
        "        return DataLoader(\n",
        "            self.val_dataset,\n",
        "            batch_size=self.batch_size,\n",
        "            num_workers=self.workers,\n",
        "            collate_fn=self.custom_collate_fn,\n",
        "        )\n",
        "\n",
        "    def test_dataloader(self):\n",
        "        return DataLoader(\n",
        "            self.test_dataset,\n",
        "            batch_size=self.batch_size,\n",
        "            num_workers=self.workers,\n",
        "            collate_fn=self.custom_collate_fn,\n",
        "        )"
      ]
    },
    {
      "cell_type": "markdown",
      "metadata": {
        "id": "JzRl-DlmGomL"
      },
      "source": [
        "## Task 4: Build Model\n",
        "\n",
        "In this task, we will build a model that will be used to train the dataset.\n",
        "The model will be a simple RNN with a single layer of Bidirectional LSTM cells. The model will take the input from the dataset and output the predicted sequence of symbols and relations and will use CTC loss to train the model.\n",
        "\n",
        "The model will be built using PyTorch and will use the following architecture\n"
      ]
    },
    {
      "cell_type": "markdown",
      "metadata": {
        "id": "bb_9WrCkGomL"
      },
      "source": [
        "> _We highly recommend you to read through this [tutorial on Creating a model using Pytorch](https://pytorch.org/tutorials/beginner/introyt/modelsyt_tutorial.html) and understand the basic building blocks of a model in PyTorch._"
      ]
    },
    {
      "cell_type": "markdown",
      "metadata": {
        "id": "9SIq1MeSGomL"
      },
      "source": [
        "> _**ATTENTION** Below is the architecture for the model. You must **STRICTLY** follow the architecture and the parameters mentioned below._\n",
        "> | Layer Type         | Configuration                              |\n",
        "> |--------------------|--------------------------------------------|\n",
        "> | Input              | Sequence of vectors with `input_size=4`    |\n",
        "> | LSTM Layer         | `hidden_size=256`, `num_layers=2`          |\n",
        "> |                    | `batch_first=True`                         |\n",
        "> |                    | `bidirectional=True`                       |\n",
        "> | LSTM Output        | Output shape: `(batch_size, seq_len, hidden_size*2)`|\n",
        "> | Fully Connected    | `Linear(hidden_size*2, num_classes)`|\n",
        "> | Activation         | `LogSoftmax(dim=...)`|\n",
        "> | Output             | `(batch_size, seq_len, num_classes)`|\n"
      ]
    },
    {
      "cell_type": "code",
      "execution_count": null,
      "metadata": {
        "id": "Z24pJPawGomL",
        "trusted": true
      },
      "outputs": [],
      "source": [
        "class LSTM_TemporalClassification(nn.Module):\n",
        "    def __init__(self, input_size, hidden_size, num_layers, num_classes):\n",
        "        super(LSTM_TemporalClassification, self).__init__()\n",
        "\n",
        "        self.lstm = nn.LSTM(input_size=input_size,\n",
        "                            hidden_size=hidden_size,\n",
        "                            num_layers=num_layers,\n",
        "                            batch_first=True,\n",
        "                            bidirectional=True)\n",
        "\n",
        "        self.fc = nn.Linear(hidden_size*2, num_classes)\n",
        "\n",
        "        '''LSTM records how the sequence changes over time and builds a context-aware hidden state\n",
        "           Linear translates LSTM's outputs into class scores\n",
        "        '''\n",
        "\n",
        "        self.activation = torch.nn.LogSoftmax(dim=2)       # convert class scores into log probabilities (on third dim since that's where the class scores are)\n",
        "\n",
        "    def forward(self, x):\n",
        "        lstm_out, _ = self.lstm(x)  # LSTM output: tuple of 2 elements, first is tensor of shape (B, Tmax, hidden_size*2) batch_size, longest_seq, 256*2=512\n",
        "        x = self.fc(lstm_out)       # Linear output: tensor of shape (B, Tmax, C) batch_size, longest_seq_ num_classes\n",
        "        x = self.activation(x)      # Softmax dim=2 to target num_classes\n",
        "        return x"
      ]
    },
    {
      "cell_type": "code",
      "execution_count": null,
      "metadata": {
        "id": "sBM9L41uGomP",
        "trusted": true
      },
      "outputs": [],
      "source": [
        "# Test your implementation\n",
        "model = LSTM_TemporalClassification(4, 256, 2, 109)\n",
        "assert model.forward(torch.rand((10, 100, 4))).shape == (10, 100, 109)"
      ]
    },
    {
      "cell_type": "markdown",
      "metadata": {
        "id": "e6V0E9xSGomP"
      },
      "source": [
        "## Task 5: Understand CTC Loss\n",
        "\n",
        "In this task, we will understand how to use CTC loss to train the model. The CTC loss is used to train the model to predict the sequence of symbols and relations from the input sequence of features.\n",
        "\n",
        "> _For deeper understanding of CTC loss, read this [blog](https://distill.pub/2017/ctc/)_\n",
        "\n",
        "Check out this [Pytorch documentation](https://pytorch.org/docs/stable/generated/torch.nn.CTCLoss.html) to learn more about its implementation.\n",
        "\n",
        "> _Hint: read the expected input and output of the CTC loss function. The input should be of shape `(T, N, C)` where T is the length of the input sequence, N is the batch size, and C is the number of classes. The target should be of shape `(N, S)` where S is the length of the target sequence._\n",
        "\n",
        "After understanding how CTC Loss works, we can proceed to implement it in our model."
      ]
    },
    {
      "cell_type": "code",
      "execution_count": null,
      "metadata": {
        "id": "jbgIwNU6r6AC"
      },
      "outputs": [],
      "source": [
        "class GreedyCTCDecoder(torch.nn.Module):\n",
        "    def __init__(self, vocab):\n",
        "        super().__init__()\n",
        "        self.vocab = [char for char in vocab.char2idx.keys()]     # Grab list of vocabs (the keys of the dict)\n",
        "        self.blank = int(vocab.char2idx[\"\"])                      # Blank is the first elem of dict\n",
        "\n",
        "    def forward(self, emission: torch.Tensor) -> list:\n",
        "        \"\"\"Given a sequence emission over labels, get the best path\n",
        "        Args:\n",
        "          emission (Tensor): Logit tensors. Shape `[seq_len, num_label]`.\n",
        "\n",
        "        Returns:\n",
        "          list: The resulting transcript\n",
        "        \"\"\"\n",
        "        # TODO: implement the decoder (code from documentation)\n",
        "        indices = torch.argmax(emission, dim=-1)\n",
        "        indices = torch.unique_consecutive(indices, dim=-1)\n",
        "        indices = [i for i in indices if i != self.blank]\n",
        "        joined = \" \".join([self.vocab[i] for i in indices])\n",
        "        output_seq_list = joined.replace(\"|\", \" \").strip().split()\n",
        "        return output_seq_list"
      ]
    },
    {
      "cell_type": "code",
      "execution_count": null,
      "metadata": {
        "id": "rJXN4dWMr6AC"
      },
      "outputs": [],
      "source": [
        "def edit_distance(pred_seq: list, label_seq: list):\n",
        "    # TODO: implement Token Edit distance\n",
        "    m = len(pred_seq)\n",
        "    n = len(label_seq)\n",
        "\n",
        "    # Create a dp table to store results of subproblems\n",
        "    dp = [[0] * (n + 1) for _ in range(m + 1)]\n",
        "\n",
        "    # Base cases\n",
        "    for i in range(m + 1):\n",
        "        dp[i][0] = i\n",
        "    for j in range(n + 1):\n",
        "        dp[0][j] = j\n",
        "\n",
        "    # Fill the rest of dp[][]\n",
        "    for i in range(1, m + 1):\n",
        "        for j in range(1, n + 1):\n",
        "            if pred_seq[i - 1] == label_seq[j - 1]:\n",
        "                dp[i][j] = dp[i - 1][j - 1]\n",
        "            else:\n",
        "                dp[i][j] = 1 + min(dp[i][j - 1], dp[i - 1][j], dp[i - 1][j - 1])\n",
        "    return dp[m][n]\n"
      ]
    },
    {
      "cell_type": "markdown",
      "metadata": {
        "id": "qvim4uxsGomP"
      },
      "source": [
        "## Task 6: Build Lightning Module\n",
        "\n",
        "In this task, we will build a Lightning module that will be used to train the model. The Lightning module will mostly be used to define the training and validation steps, as well as the optimizer and learning rate scheduler.\n",
        "\n",
        "> _More on building Lightning module can be found [here](https://lightning.ai/docs/pytorch/stable/common/lightning_module.html). You should read about core methods to know what to implement in your module._"
      ]
    },
    {
      "cell_type": "code",
      "execution_count": null,
      "metadata": {
        "id": "OENCqCIjGomQ",
        "trusted": true
      },
      "outputs": [],
      "source": [
        "class MathOnlineModel(pl.LightningModule):\n",
        "    def __init__(\n",
        "        self,\n",
        "        lr=0.001,\n",
        "        input_size=4,       # number of features (delta_x, delta_y, ed, penup)\n",
        "        output_size=109,    # number of classes (words in Vocab)\n",
        "        hidden_size=256,\n",
        "        num_layers=2,\n",
        "        decoder=None,\n",
        "        vocab:Vocab=None\n",
        "    ):\n",
        "        super().__init__()\n",
        "        self.model = LSTM_TemporalClassification(\n",
        "            input_size, hidden_size, num_layers, output_size\n",
        "        )\n",
        "        self.criterion = nn.CTCLoss()\n",
        "        self.lr = lr\n",
        "        self.decoder = decoder\n",
        "        self.vocab = vocab\n",
        "        self.RELATION_TOKENS=['Right', 'Above', 'Below', 'Inside', 'Sub', 'Sup', 'NoRel']\n",
        "        self.hyperparamater = 0.1\n",
        "\n",
        "    def forward(self, x):\n",
        "        return self.model(x)\n",
        "\n",
        "    def get_relation_indices(self):\n",
        "        relation_indices = self.vocab.encode(self.RELATION_TOKENS)\n",
        "        return relation_indices\n",
        "\n",
        "    def constraint_loss(self, output, features, feature_lens):\n",
        "        # Constraint loss to penalize relation outputs during pen-up timesteps\n",
        "        B, Tmax, C = output.shape\n",
        "        total_loss = 0.0\n",
        "        valid_samples = 0\n",
        "\n",
        "        # Define relation token indices\n",
        "        relation_indices = self.get_relation_indices()\n",
        "\n",
        "        for i in range(B):\n",
        "            real_timestep_length = feature_lens[i].item()\n",
        "            if real_timestep_length <= 0 or real_timestep_length > Tmax:       # Invalid input length\n",
        "                continue\n",
        "\n",
        "            # Get pen states (pen_down=0, pen_up=1)\n",
        "            pen_states = features[i, :real_timestep_length, 3]                  # shape(T, )    # T: original (unpadded) timestep\n",
        "            pen_down_mask = (pen_states == 0).float()                           # pen down = 0\n",
        "\n",
        "            # Get model output for this sample\n",
        "            output_sample = output[i, :real_timestep_length, :]                 # shape (seq_len, vocab_size)\n",
        "\n",
        "            # Convert from log probs to normal probs\n",
        "            probs = torch.softmax(output_sample, dim=-1)                        # dim=-1 a.k.a horizontally a.k.a run it through each timestep\n",
        "\n",
        "            # Calculate p_rel: sum of probabilities for relation tokens at each timestep\n",
        "            p_rel = torch.zeros(real_timestep_length, device=output.device)\n",
        "            for rel_idx in relation_indices:\n",
        "                p_rel += probs[:, rel_idx]                                      # Add probabilities for this relation token across all timesteps\n",
        "\n",
        "            # Calculate constraint loss for this sample\n",
        "            # L_constraint = -log(1 - sum(p_rel * pen_down_mask))\n",
        "            weighted_p_rel = p_rel * pen_down_mask  # Zero out pen-up timesteps\n",
        "            sum_weighted_p_rel = torch.sum(weighted_p_rel)\n",
        "\n",
        "            # Add small epsilon to avoid log(0)\n",
        "            epsilon = 1e-8\n",
        "            sample_loss = -torch.log(torch.clamp(1 - sum_weighted_p_rel, min=epsilon))\n",
        "\n",
        "            total_loss += sample_loss\n",
        "            valid_samples += 1\n",
        "        # Return average loss across valid samples\n",
        "        return total_loss / valid_samples if valid_samples > 0 else torch.tensor(0.0, device=output.device)\n",
        "\n",
        "    def training_step(self, batch, batch_idx):                                  # <-- This 'batch' is the RETURN VALUE from collate_fn\n",
        "        features, labels, feature_lens, label_lens = batch                      # Every batch contains 4 tensors\n",
        "\n",
        "        output = self.forward(features)                                         # Train on all padded tensors of x\n",
        "        loss_constraint = self.constraint_loss(output, features, feature_lens)  # Constraint loss (do this before permuting dims)\n",
        "\n",
        "        output = torch.permute(output, (1, 0, 2))                               # Permute dimensions for CTC Loss Calculation (B, Tmax, C) --> (Tmax, B, C)\n",
        "        loss = self.criterion(output, labels, feature_lens, label_lens)         # pass in x_lens since the model returns T as the value of one of its dimentsions\n",
        "\n",
        "        # Combine constraint loss with CTCLoss for total loss\n",
        "        total_loss = loss + self.hyperparamater * loss_constraint\n",
        "\n",
        "        # Logging\n",
        "        self.log(\"train_loss_ctc\", loss, on_step=True, on_epoch=True)\n",
        "        self.log(\"train_loss_constraint\", loss_constraint, on_step=True, on_epoch=True)\n",
        "        self.log(\"train_loss_total\", total_loss, on_step=True, on_epoch=True)\n",
        "\n",
        "        return total_loss\n",
        "\n",
        "    def validation_step(self, batch, batch_idx):\n",
        "        features, labels, feature_lens, label_lens = batch\n",
        "\n",
        "        # Calculate constraint loss before permuting dims\n",
        "        output = self.forward(features)\n",
        "        loss_constraint = self.constraint_loss(output, features, feature_lens)\n",
        "\n",
        "        # Calculate CTCLoss\n",
        "        output = torch.permute(output, (1, 0, 2))\n",
        "        loss = self.criterion(output, labels, feature_lens, label_lens)\n",
        "\n",
        "        # Combine constraint loss with CTCLoss for total loss\n",
        "        total_loss = loss + self.hyperparamater * loss_constraint\n",
        "\n",
        "        # Handling WER\n",
        "        if (self.decoder is not None and self.vocab is not None):\n",
        "            total_wer = 0\n",
        "            total_sym_wer = 0\n",
        "            total_rel_wer = 0\n",
        "\n",
        "            # Count samples that actually have symbols/relations\n",
        "            valid_samples = 0\n",
        "            valid_sym_samples = 0\n",
        "            valid_rel_samples = 0\n",
        "\n",
        "            batch_size = output.size(1)\n",
        "\n",
        "            for i in range(batch_size):\n",
        "                # Get prediction for this sample\n",
        "                real_timestep_length = feature_lens[i].item()\n",
        "                sample_output = output[:real_timestep_length, i, :]         # Since dims have been swapped, indexing must also follow suit\n",
        "                decoded_pred = self.decoder(sample_output)\n",
        "\n",
        "                # Decode labels\n",
        "                real_label_length = label_lens[i].item()\n",
        "                sample_label = labels[i][:real_label_length].tolist()\n",
        "                decoded_label = self.vocab.decode(sample_label)\n",
        "\n",
        "                # Calculate overall WER (avoid division by zero)\n",
        "                if len(decoded_label) > 0:\n",
        "                    sample_wer = edit_distance(decoded_pred, decoded_label) / len(decoded_label)\n",
        "                    total_wer += sample_wer\n",
        "                    valid_samples += 1\n",
        "\n",
        "                # Separate symbols and relations\n",
        "                symbol_pred = [pred for pred in decoded_pred if pred not in self.RELATION_TOKENS]\n",
        "                relation_pred = [pred for pred in decoded_pred if pred in self.RELATION_TOKENS]\n",
        "\n",
        "                symbol_label = [label for label in decoded_label if label not in self.RELATION_TOKENS]\n",
        "                relation_label = [label for label in decoded_label if label in self.RELATION_TOKENS]\n",
        "\n",
        "                # Calculate symbol WER\n",
        "                if len(symbol_label) > 0:\n",
        "                    sym_sample_wer = edit_distance(symbol_pred, symbol_label) / len(symbol_label)\n",
        "                    total_sym_wer += sym_sample_wer\n",
        "                    valid_sym_samples += 1\n",
        "\n",
        "                # Calculate relation WER\n",
        "                if len(relation_label) > 0:\n",
        "                    rel_sample_wer = edit_distance(relation_pred, relation_label) / len(relation_label)\n",
        "                    total_rel_wer += rel_sample_wer\n",
        "                    valid_rel_samples += 1\n",
        "\n",
        "            # Calculate averages only over valid samples\n",
        "            avg_wer = total_wer / valid_samples if valid_samples > 0 else 0.0\n",
        "            avg_sym_wer = total_sym_wer / valid_sym_samples if valid_sym_samples > 0 else 0.0\n",
        "            avg_rel_wer = total_rel_wer / valid_rel_samples if valid_rel_samples > 0 else 0.0\n",
        "\n",
        "            # Log metrics\n",
        "            self.log(\"val_wer\", avg_wer, prog_bar=True, on_step=False, on_epoch=True)\n",
        "            self.log(\"sym_wer\", avg_sym_wer, prog_bar=True, on_step=False, on_epoch=True)\n",
        "            self.log(\"rel_wer\", avg_rel_wer, prog_bar=True, on_step=False, on_epoch=True)\n",
        "\n",
        "        self.log(\"val_loss\", total_loss, prog_bar=True, on_step=False, on_epoch=True)\n",
        "        return total_loss\n",
        "\n",
        "    def test_step(self, batch, batch_idx):\n",
        "        features, labels, feature_lens, label_lens = batch\n",
        "\n",
        "        # Calculate constraint loss before permuting dims\n",
        "        output = self.forward(features)\n",
        "        loss_constraint = self.constraint_loss(output, features, feature_lens)\n",
        "\n",
        "        # Calculate CTCLoss\n",
        "        output = torch.permute(output, (1, 0, 2))\n",
        "        loss = self.criterion(output, labels, feature_lens, label_lens)\n",
        "\n",
        "        # Combine constraint loss with CTCLoss for total loss\n",
        "        total_loss = loss + self.hyperparamater * loss_constraint\n",
        "\n",
        "        self.log(\"test_loss\", total_loss, prog_bar=True, on_step=False, on_epoch=True)\n",
        "        return total_loss\n",
        "\n",
        "    def configure_optimizers(self):\n",
        "        return torch.optim.Adam(self.model.parameters(), lr=self.lr)"
      ]
    },
    {
      "cell_type": "markdown",
      "metadata": {
        "id": "9D8zzyWkGomQ"
      },
      "source": [
        "## Task 7: Train the Model with PyTorch Lightning\n",
        "\n",
        "Read more about Training with PyTorch Lightning [here](https://lightning.ai/docs/pytorch/stable/common/trainer.html) and understand how to use the Trainer class to train the model.\n",
        "\n",
        "From the documentation:\n",
        "\n",
        "> The Lightning Trainer does much more than just “training”. Under the hood, it handles all loop details for you, some examples include:\n",
        "> - Automatically enabling/disabling grads\n",
        "> - Running the training, validation and test dataloaders\n",
        "> - Calling the Callbacks at the appropriate times\n",
        "> - Putting batches and computations on the correct devices"
      ]
    },
    {
      "cell_type": "markdown",
      "metadata": {
        "id": "lpBbmYgyGomQ"
      },
      "source": [
        "> **IMPORTANT**: You must config your WandB logger to log the training and validation metrics. Without this, your work will not be graded."
      ]
    },
    {
      "cell_type": "code",
      "execution_count": null,
      "metadata": {
        "id": "_rA8biO6GomQ",
        "trusted": true,
        "colab": {
          "base_uri": "https://localhost:8080/"
        },
        "outputId": "fc63876a-4285-4af0-d046-329d596e8821"
      },
      "outputs": [
        {
          "output_type": "stream",
          "name": "stdout",
          "text": [
            "WandB API key is set. Proceeding with login...\n"
          ]
        },
        {
          "output_type": "stream",
          "name": "stderr",
          "text": [
            "\u001b[34m\u001b[1mwandb\u001b[0m: \u001b[33mWARNING\u001b[0m If you're specifying your api key in code, ensure this code is not shared publicly.\n",
            "\u001b[34m\u001b[1mwandb\u001b[0m: \u001b[33mWARNING\u001b[0m Consider setting the WANDB_API_KEY environment variable, or running `wandb login` from the command line.\n",
            "\u001b[34m\u001b[1mwandb\u001b[0m: Appending key for api.wandb.ai to your netrc file: /root/.netrc\n",
            "\u001b[34m\u001b[1mwandb\u001b[0m: Currently logged in as: \u001b[33m10423043\u001b[0m (\u001b[33m10423043-vietnamese-german-university\u001b[0m) to \u001b[32mhttps://api.wandb.ai\u001b[0m. Use \u001b[1m`wandb login --relogin`\u001b[0m to force relogin\n"
          ]
        },
        {
          "output_type": "execute_result",
          "data": {
            "text/plain": [
              "True"
            ]
          },
          "metadata": {},
          "execution_count": 28
        }
      ],
      "source": [
        "student_id = \"10423043\"  # TODO: replace with your student ID\n",
        "api_key = os.environ.get(\"WANDB_API_KEY\", \"53874cefa1af47124bf4e9a6f98ada8e56fd204e\")  # configure your wandb key here\n",
        "\n",
        "if api_key == \"\":\n",
        "    raise ValueError(\"Please set your wandb key in the code or in the environment variable WANDB_API_KEY\")\n",
        "else:\n",
        "    print(\"WandB API key is set. Proceeding with login...\")\n",
        "\n",
        "wandb.login(key=api_key)"
      ]
    },
    {
      "cell_type": "code",
      "execution_count": null,
      "metadata": {
        "id": "tAkmrItVGomQ",
        "trusted": true,
        "colab": {
          "base_uri": "https://localhost:8080/",
          "height": 433
        },
        "outputId": "0771375e-6ed3-4e6c-f509-a8ad97a1c864"
      },
      "outputs": [
        {
          "output_type": "stream",
          "name": "stderr",
          "text": [
            "INFO:pytorch_lightning.utilities.rank_zero:GPU available: False, used: False\n",
            "INFO:pytorch_lightning.utilities.rank_zero:TPU available: False, using: 0 TPU cores\n",
            "INFO:pytorch_lightning.utilities.rank_zero:HPU available: False, using: 0 HPUs\n",
            "INFO:pytorch_lightning.utilities.rank_zero:Running in `fast_dev_run` mode: will run the requested loop using 1 batch(es). Logging and checkpointing is suppressed.\n"
          ]
        },
        {
          "output_type": "error",
          "ename": "FileNotFoundError",
          "evalue": "[Errno 2] No such file or directory: '/content/wandb_logs\\\\math_online_2025\\\\ll1zayhv\\\\checkpoints\\\\epoch=26-val_wer=0.1401.ckpt'",
          "traceback": [
            "\u001b[0;31m---------------------------------------------------------------------------\u001b[0m",
            "\u001b[0;31mFileNotFoundError\u001b[0m                         Traceback (most recent call last)",
            "\u001b[0;32m/tmp/ipython-input-29-996253877.py\u001b[0m in \u001b[0;36m<cell line: 0>\u001b[0;34m()\u001b[0m\n\u001b[1;32m     33\u001b[0m \u001b[0;34m\u001b[0m\u001b[0m\n\u001b[1;32m     34\u001b[0m \u001b[0;31m# model = MathOnlineModel(decoder=GreedyCTCDecoder(vocab), vocab=vocab)\u001b[0m\u001b[0;34m\u001b[0m\u001b[0;34m\u001b[0m\u001b[0m\n\u001b[0;32m---> 35\u001b[0;31m \u001b[0mmodel\u001b[0m \u001b[0;34m=\u001b[0m \u001b[0mMathOnlineModel\u001b[0m\u001b[0;34m.\u001b[0m\u001b[0mload_from_checkpoint\u001b[0m\u001b[0;34m(\u001b[0m\u001b[0;34mr\"wandb_logs\\math_online_2025\\ll1zayhv\\checkpoints\\epoch=26-val_wer=0.1401.ckpt\"\u001b[0m\u001b[0;34m)\u001b[0m\u001b[0;34m\u001b[0m\u001b[0;34m\u001b[0m\u001b[0m\n\u001b[0m\u001b[1;32m     36\u001b[0m \u001b[0;34m\u001b[0m\u001b[0m\n\u001b[1;32m     37\u001b[0m \u001b[0;31m# Set decoder and vocab after loading\u001b[0m\u001b[0;34m\u001b[0m\u001b[0;34m\u001b[0m\u001b[0m\n",
            "\u001b[0;32m/usr/local/lib/python3.11/dist-packages/pytorch_lightning/utilities/model_helpers.py\u001b[0m in \u001b[0;36mwrapper\u001b[0;34m(*args, **kwargs)\u001b[0m\n\u001b[1;32m    123\u001b[0m                     \u001b[0;34m\" Please call it on the class type and make sure the return value is used.\"\u001b[0m\u001b[0;34m\u001b[0m\u001b[0;34m\u001b[0m\u001b[0m\n\u001b[1;32m    124\u001b[0m                 )\n\u001b[0;32m--> 125\u001b[0;31m             \u001b[0;32mreturn\u001b[0m \u001b[0mself\u001b[0m\u001b[0;34m.\u001b[0m\u001b[0mmethod\u001b[0m\u001b[0;34m(\u001b[0m\u001b[0mcls\u001b[0m\u001b[0;34m,\u001b[0m \u001b[0;34m*\u001b[0m\u001b[0margs\u001b[0m\u001b[0;34m,\u001b[0m \u001b[0;34m**\u001b[0m\u001b[0mkwargs\u001b[0m\u001b[0;34m)\u001b[0m\u001b[0;34m\u001b[0m\u001b[0;34m\u001b[0m\u001b[0m\n\u001b[0m\u001b[1;32m    126\u001b[0m \u001b[0;34m\u001b[0m\u001b[0m\n\u001b[1;32m    127\u001b[0m         \u001b[0;32mreturn\u001b[0m \u001b[0mwrapper\u001b[0m\u001b[0;34m\u001b[0m\u001b[0;34m\u001b[0m\u001b[0m\n",
            "\u001b[0;32m/usr/local/lib/python3.11/dist-packages/pytorch_lightning/core/module.py\u001b[0m in \u001b[0;36mload_from_checkpoint\u001b[0;34m(cls, checkpoint_path, map_location, hparams_file, strict, **kwargs)\u001b[0m\n\u001b[1;32m   1609\u001b[0m \u001b[0;34m\u001b[0m\u001b[0m\n\u001b[1;32m   1610\u001b[0m         \"\"\"\n\u001b[0;32m-> 1611\u001b[0;31m         loaded = _load_from_checkpoint(\n\u001b[0m\u001b[1;32m   1612\u001b[0m             \u001b[0mcls\u001b[0m\u001b[0;34m,\u001b[0m\u001b[0;34m\u001b[0m\u001b[0;34m\u001b[0m\u001b[0m\n\u001b[1;32m   1613\u001b[0m             \u001b[0mcheckpoint_path\u001b[0m\u001b[0;34m,\u001b[0m\u001b[0;34m\u001b[0m\u001b[0;34m\u001b[0m\u001b[0m\n",
            "\u001b[0;32m/usr/local/lib/python3.11/dist-packages/pytorch_lightning/core/saving.py\u001b[0m in \u001b[0;36m_load_from_checkpoint\u001b[0;34m(cls, checkpoint_path, map_location, hparams_file, strict, **kwargs)\u001b[0m\n\u001b[1;32m     61\u001b[0m     \u001b[0mmap_location\u001b[0m \u001b[0;34m=\u001b[0m \u001b[0mmap_location\u001b[0m \u001b[0;32mor\u001b[0m \u001b[0m_default_map_location\u001b[0m\u001b[0;34m\u001b[0m\u001b[0;34m\u001b[0m\u001b[0m\n\u001b[1;32m     62\u001b[0m     \u001b[0;32mwith\u001b[0m \u001b[0mpl_legacy_patch\u001b[0m\u001b[0;34m(\u001b[0m\u001b[0;34m)\u001b[0m\u001b[0;34m:\u001b[0m\u001b[0;34m\u001b[0m\u001b[0;34m\u001b[0m\u001b[0m\n\u001b[0;32m---> 63\u001b[0;31m         \u001b[0mcheckpoint\u001b[0m \u001b[0;34m=\u001b[0m \u001b[0mpl_load\u001b[0m\u001b[0;34m(\u001b[0m\u001b[0mcheckpoint_path\u001b[0m\u001b[0;34m,\u001b[0m \u001b[0mmap_location\u001b[0m\u001b[0;34m=\u001b[0m\u001b[0mmap_location\u001b[0m\u001b[0;34m)\u001b[0m\u001b[0;34m\u001b[0m\u001b[0;34m\u001b[0m\u001b[0m\n\u001b[0m\u001b[1;32m     64\u001b[0m \u001b[0;34m\u001b[0m\u001b[0m\n\u001b[1;32m     65\u001b[0m     \u001b[0;31m# convert legacy checkpoints to the new format\u001b[0m\u001b[0;34m\u001b[0m\u001b[0;34m\u001b[0m\u001b[0m\n",
            "\u001b[0;32m/usr/local/lib/python3.11/dist-packages/lightning_fabric/utilities/cloud_io.py\u001b[0m in \u001b[0;36m_load\u001b[0;34m(path_or_url, map_location, weights_only)\u001b[0m\n\u001b[1;32m     58\u001b[0m         )\n\u001b[1;32m     59\u001b[0m     \u001b[0mfs\u001b[0m \u001b[0;34m=\u001b[0m \u001b[0mget_filesystem\u001b[0m\u001b[0;34m(\u001b[0m\u001b[0mpath_or_url\u001b[0m\u001b[0;34m)\u001b[0m\u001b[0;34m\u001b[0m\u001b[0;34m\u001b[0m\u001b[0m\n\u001b[0;32m---> 60\u001b[0;31m     \u001b[0;32mwith\u001b[0m \u001b[0mfs\u001b[0m\u001b[0;34m.\u001b[0m\u001b[0mopen\u001b[0m\u001b[0;34m(\u001b[0m\u001b[0mpath_or_url\u001b[0m\u001b[0;34m,\u001b[0m \u001b[0;34m\"rb\"\u001b[0m\u001b[0;34m)\u001b[0m \u001b[0;32mas\u001b[0m \u001b[0mf\u001b[0m\u001b[0;34m:\u001b[0m\u001b[0;34m\u001b[0m\u001b[0;34m\u001b[0m\u001b[0m\n\u001b[0m\u001b[1;32m     61\u001b[0m         return torch.load(\n\u001b[1;32m     62\u001b[0m             \u001b[0mf\u001b[0m\u001b[0;34m,\u001b[0m\u001b[0;34m\u001b[0m\u001b[0;34m\u001b[0m\u001b[0m\n",
            "\u001b[0;32m/usr/local/lib/python3.11/dist-packages/fsspec/spec.py\u001b[0m in \u001b[0;36mopen\u001b[0;34m(self, path, mode, block_size, cache_options, compression, **kwargs)\u001b[0m\n\u001b[1;32m   1308\u001b[0m         \u001b[0;32melse\u001b[0m\u001b[0;34m:\u001b[0m\u001b[0;34m\u001b[0m\u001b[0;34m\u001b[0m\u001b[0m\n\u001b[1;32m   1309\u001b[0m             \u001b[0mac\u001b[0m \u001b[0;34m=\u001b[0m \u001b[0mkwargs\u001b[0m\u001b[0;34m.\u001b[0m\u001b[0mpop\u001b[0m\u001b[0;34m(\u001b[0m\u001b[0;34m\"autocommit\"\u001b[0m\u001b[0;34m,\u001b[0m \u001b[0;32mnot\u001b[0m \u001b[0mself\u001b[0m\u001b[0;34m.\u001b[0m\u001b[0m_intrans\u001b[0m\u001b[0;34m)\u001b[0m\u001b[0;34m\u001b[0m\u001b[0;34m\u001b[0m\u001b[0m\n\u001b[0;32m-> 1310\u001b[0;31m             f = self._open(\n\u001b[0m\u001b[1;32m   1311\u001b[0m                 \u001b[0mpath\u001b[0m\u001b[0;34m,\u001b[0m\u001b[0;34m\u001b[0m\u001b[0;34m\u001b[0m\u001b[0m\n\u001b[1;32m   1312\u001b[0m                 \u001b[0mmode\u001b[0m\u001b[0;34m=\u001b[0m\u001b[0mmode\u001b[0m\u001b[0;34m,\u001b[0m\u001b[0;34m\u001b[0m\u001b[0;34m\u001b[0m\u001b[0m\n",
            "\u001b[0;32m/usr/local/lib/python3.11/dist-packages/fsspec/implementations/local.py\u001b[0m in \u001b[0;36m_open\u001b[0;34m(self, path, mode, block_size, **kwargs)\u001b[0m\n\u001b[1;32m    199\u001b[0m         \u001b[0;32mif\u001b[0m \u001b[0mself\u001b[0m\u001b[0;34m.\u001b[0m\u001b[0mauto_mkdir\u001b[0m \u001b[0;32mand\u001b[0m \u001b[0;34m\"w\"\u001b[0m \u001b[0;32min\u001b[0m \u001b[0mmode\u001b[0m\u001b[0;34m:\u001b[0m\u001b[0;34m\u001b[0m\u001b[0;34m\u001b[0m\u001b[0m\n\u001b[1;32m    200\u001b[0m             \u001b[0mself\u001b[0m\u001b[0;34m.\u001b[0m\u001b[0mmakedirs\u001b[0m\u001b[0;34m(\u001b[0m\u001b[0mself\u001b[0m\u001b[0;34m.\u001b[0m\u001b[0m_parent\u001b[0m\u001b[0;34m(\u001b[0m\u001b[0mpath\u001b[0m\u001b[0;34m)\u001b[0m\u001b[0;34m,\u001b[0m \u001b[0mexist_ok\u001b[0m\u001b[0;34m=\u001b[0m\u001b[0;32mTrue\u001b[0m\u001b[0;34m)\u001b[0m\u001b[0;34m\u001b[0m\u001b[0;34m\u001b[0m\u001b[0m\n\u001b[0;32m--> 201\u001b[0;31m         \u001b[0;32mreturn\u001b[0m \u001b[0mLocalFileOpener\u001b[0m\u001b[0;34m(\u001b[0m\u001b[0mpath\u001b[0m\u001b[0;34m,\u001b[0m \u001b[0mmode\u001b[0m\u001b[0;34m,\u001b[0m \u001b[0mfs\u001b[0m\u001b[0;34m=\u001b[0m\u001b[0mself\u001b[0m\u001b[0;34m,\u001b[0m \u001b[0;34m**\u001b[0m\u001b[0mkwargs\u001b[0m\u001b[0;34m)\u001b[0m\u001b[0;34m\u001b[0m\u001b[0;34m\u001b[0m\u001b[0m\n\u001b[0m\u001b[1;32m    202\u001b[0m \u001b[0;34m\u001b[0m\u001b[0m\n\u001b[1;32m    203\u001b[0m     \u001b[0;32mdef\u001b[0m \u001b[0mtouch\u001b[0m\u001b[0;34m(\u001b[0m\u001b[0mself\u001b[0m\u001b[0;34m,\u001b[0m \u001b[0mpath\u001b[0m\u001b[0;34m,\u001b[0m \u001b[0mtruncate\u001b[0m\u001b[0;34m=\u001b[0m\u001b[0;32mTrue\u001b[0m\u001b[0;34m,\u001b[0m \u001b[0;34m**\u001b[0m\u001b[0mkwargs\u001b[0m\u001b[0;34m)\u001b[0m\u001b[0;34m:\u001b[0m\u001b[0;34m\u001b[0m\u001b[0;34m\u001b[0m\u001b[0m\n",
            "\u001b[0;32m/usr/local/lib/python3.11/dist-packages/fsspec/implementations/local.py\u001b[0m in \u001b[0;36m__init__\u001b[0;34m(self, path, mode, autocommit, fs, compression, **kwargs)\u001b[0m\n\u001b[1;32m    363\u001b[0m         \u001b[0mself\u001b[0m\u001b[0;34m.\u001b[0m\u001b[0mcompression\u001b[0m \u001b[0;34m=\u001b[0m \u001b[0mget_compression\u001b[0m\u001b[0;34m(\u001b[0m\u001b[0mpath\u001b[0m\u001b[0;34m,\u001b[0m \u001b[0mcompression\u001b[0m\u001b[0;34m)\u001b[0m\u001b[0;34m\u001b[0m\u001b[0;34m\u001b[0m\u001b[0m\n\u001b[1;32m    364\u001b[0m         \u001b[0mself\u001b[0m\u001b[0;34m.\u001b[0m\u001b[0mblocksize\u001b[0m \u001b[0;34m=\u001b[0m \u001b[0mio\u001b[0m\u001b[0;34m.\u001b[0m\u001b[0mDEFAULT_BUFFER_SIZE\u001b[0m\u001b[0;34m\u001b[0m\u001b[0;34m\u001b[0m\u001b[0m\n\u001b[0;32m--> 365\u001b[0;31m         \u001b[0mself\u001b[0m\u001b[0;34m.\u001b[0m\u001b[0m_open\u001b[0m\u001b[0;34m(\u001b[0m\u001b[0;34m)\u001b[0m\u001b[0;34m\u001b[0m\u001b[0;34m\u001b[0m\u001b[0m\n\u001b[0m\u001b[1;32m    366\u001b[0m \u001b[0;34m\u001b[0m\u001b[0m\n\u001b[1;32m    367\u001b[0m     \u001b[0;32mdef\u001b[0m \u001b[0m_open\u001b[0m\u001b[0;34m(\u001b[0m\u001b[0mself\u001b[0m\u001b[0;34m)\u001b[0m\u001b[0;34m:\u001b[0m\u001b[0;34m\u001b[0m\u001b[0;34m\u001b[0m\u001b[0m\n",
            "\u001b[0;32m/usr/local/lib/python3.11/dist-packages/fsspec/implementations/local.py\u001b[0m in \u001b[0;36m_open\u001b[0;34m(self)\u001b[0m\n\u001b[1;32m    368\u001b[0m         \u001b[0;32mif\u001b[0m \u001b[0mself\u001b[0m\u001b[0;34m.\u001b[0m\u001b[0mf\u001b[0m \u001b[0;32mis\u001b[0m \u001b[0;32mNone\u001b[0m \u001b[0;32mor\u001b[0m \u001b[0mself\u001b[0m\u001b[0;34m.\u001b[0m\u001b[0mf\u001b[0m\u001b[0;34m.\u001b[0m\u001b[0mclosed\u001b[0m\u001b[0;34m:\u001b[0m\u001b[0;34m\u001b[0m\u001b[0;34m\u001b[0m\u001b[0m\n\u001b[1;32m    369\u001b[0m             \u001b[0;32mif\u001b[0m \u001b[0mself\u001b[0m\u001b[0;34m.\u001b[0m\u001b[0mautocommit\u001b[0m \u001b[0;32mor\u001b[0m \u001b[0;34m\"w\"\u001b[0m \u001b[0;32mnot\u001b[0m \u001b[0;32min\u001b[0m \u001b[0mself\u001b[0m\u001b[0;34m.\u001b[0m\u001b[0mmode\u001b[0m\u001b[0;34m:\u001b[0m\u001b[0;34m\u001b[0m\u001b[0;34m\u001b[0m\u001b[0m\n\u001b[0;32m--> 370\u001b[0;31m                 \u001b[0mself\u001b[0m\u001b[0;34m.\u001b[0m\u001b[0mf\u001b[0m \u001b[0;34m=\u001b[0m \u001b[0mopen\u001b[0m\u001b[0;34m(\u001b[0m\u001b[0mself\u001b[0m\u001b[0;34m.\u001b[0m\u001b[0mpath\u001b[0m\u001b[0;34m,\u001b[0m \u001b[0mmode\u001b[0m\u001b[0;34m=\u001b[0m\u001b[0mself\u001b[0m\u001b[0;34m.\u001b[0m\u001b[0mmode\u001b[0m\u001b[0;34m)\u001b[0m\u001b[0;34m\u001b[0m\u001b[0;34m\u001b[0m\u001b[0m\n\u001b[0m\u001b[1;32m    371\u001b[0m                 \u001b[0;32mif\u001b[0m \u001b[0mself\u001b[0m\u001b[0;34m.\u001b[0m\u001b[0mcompression\u001b[0m\u001b[0;34m:\u001b[0m\u001b[0;34m\u001b[0m\u001b[0;34m\u001b[0m\u001b[0m\n\u001b[1;32m    372\u001b[0m                     \u001b[0mcompress\u001b[0m \u001b[0;34m=\u001b[0m \u001b[0mcompr\u001b[0m\u001b[0;34m[\u001b[0m\u001b[0mself\u001b[0m\u001b[0;34m.\u001b[0m\u001b[0mcompression\u001b[0m\u001b[0;34m]\u001b[0m\u001b[0;34m\u001b[0m\u001b[0;34m\u001b[0m\u001b[0m\n",
            "\u001b[0;31mFileNotFoundError\u001b[0m: [Errno 2] No such file or directory: '/content/wandb_logs\\\\math_online_2025\\\\ll1zayhv\\\\checkpoints\\\\epoch=26-val_wer=0.1401.ckpt'"
          ]
        }
      ],
      "source": [
        "wandb_logger = WandbLogger(\n",
        "    entity=\"cuong-nt-vgu-ai-2025\",  # DO NOT CHANGE THIS\n",
        "    project=\"math_online_2025\", # DO NOT CHANGE THIS\n",
        "    name=f\"{student_id}_run_1\",\n",
        "    config={\n",
        "        \"student_id\": student_id,  # DO NOT CHANGE THIS\n",
        "        \"model\": \"LSTM_TemporalClassification\",\n",
        "        \"lr\": 0.001,\n",
        "        \"batch_size\": 32,\n",
        "        \"hidden_size\" : 256,\n",
        "        \"num_layers\" : 2\n",
        "    },\n",
        "    log_model=True,\n",
        "    save_dir=\"wandb_logs\",\n",
        ")\n",
        "\n",
        "trainer = Trainer(\n",
        "    callbacks = [\n",
        "        LearningRateMonitor(logging_interval='step'),\n",
        "        ModelCheckpoint(filename='{epoch}-{val_wer:.4f}', save_top_k=5, monitor='val_wer', mode='min'),\n",
        "    ],\n",
        "    logger = wandb_logger,\n",
        "    check_val_every_n_epoch=1,\n",
        "    limit_train_batches=2,  # Only run 2 batches for testing\n",
        "    limit_val_batches=1,    # Only run 1 validation batch\n",
        "    fast_dev_run=True,      # enable for testing model\n",
        "    default_root_dir='checkpoint',\n",
        "    deterministic=False,\n",
        "    max_epochs=50,\n",
        "    log_every_n_steps=20,\n",
        "    devices = \"auto\",\n",
        ")\n",
        "\n",
        "# model = MathOnlineModel(decoder=GreedyCTCDecoder(vocab), vocab=vocab)\n",
        "model = MathOnlineModel.load_from_checkpoint(r\"wandb_logs\\math_online_2025\\ll1zayhv\\checkpoints\\epoch=26-val_wer=0.1401.ckpt\")\n",
        "\n",
        "# Set decoder and vocab after loading\n",
        "model.decoder = GreedyCTCDecoder(vocab)\n",
        "model.vocab = Vocab('vocab.json')\n",
        "\n",
        "\n",
        "\n",
        "dm = InkmlDataset_PL(train_data=f\"{ROOT_DIR}/crohme2019_train.txt\",\n",
        "                     val_data=f\"{ROOT_DIR}/crohme2019_valid.txt\",\n",
        "                     test_data=f\"{ROOT_DIR}/crohme2019_test.txt\",\n",
        "                     vocab_file='vocab.json',\n",
        "                     batch_size=32,\n",
        "                     workers=0\n",
        "                     )\n",
        "\n",
        "trainer.fit(model, dm)"
      ]
    },
    {
      "cell_type": "markdown",
      "metadata": {
        "id": "afGbzkoIGomQ"
      },
      "source": [
        "**Requirements:**\n",
        "- Validation loss (val_loss < 0.7)\n",
        "\n",
        "**Tips on training:**\n",
        "- Debug with **fast_dev_run**:\n",
        "Before run the training process, it is better to make a quick check of training and validation loop. Set fast_dev_run=True, then run the trainer and check if there is any bug exist.\n",
        "- Training initially with **small batch size**:\n",
        "In practice, training with CTC loss converges slowly for large batch size. To accelerate convergence, training with small batch size first, save model, then, train with large batch size.\n",
        "- Train more epochs by setting:\n",
        "\n",
        "```python\n",
        "trainer = Trainer(\n",
        "    ...\n",
        "    max_epochs=20,\n",
        "    ...\n",
        ")\n",
        "```"
      ]
    },
    {
      "cell_type": "markdown",
      "metadata": {
        "id": "QSITSKLPGomQ"
      },
      "source": [
        "## Task 8: Test your model\n",
        "\n",
        "Run the test set and check the accuracy of your model. The test set is used to evaluate the performance of the model on unseen data."
      ]
    },
    {
      "cell_type": "code",
      "execution_count": null,
      "metadata": {
        "id": "3RfWD5ViGomQ",
        "trusted": true
      },
      "outputs": [],
      "source": [
        "trainer = Trainer(\n",
        "    devices=1,\n",
        ")\n",
        "\n",
        "# Load the model from a checkpoint\n",
        "model = MathOnlineModel.load_from_checkpoint(\n",
        "    r\"wandb_logs\\math_online_2025\\ll1zayhv\\checkpoints\\epoch=26-val_wer=0.1401.ckpt\",\n",
        ")\n",
        "\n",
        "# Set decoder and vocab after loading\n",
        "model.decoder = GreedyCTCDecoder(vocab)\n",
        "model.vocab = Vocab(\"vocab.json\")\n",
        "\n",
        "# Initialize the data module\n",
        "dm = InkmlDataset_PL(train_data=f\"{ROOT_DIR}/crohme2019_train.txt\",\n",
        "                     val_data=f\"{ROOT_DIR}/crohme2019_valid.txt\",\n",
        "                     test_data=f\"{ROOT_DIR}/crohme2019_test.txt\",\n",
        "                     vocab_file='vocab.json',\n",
        "                     batch_size=32,\n",
        "                     workers=0\n",
        "                     )\n",
        "\n",
        "# Test the model\n",
        "trainer.test(model, datamodule=dm)"
      ]
    },
    {
      "cell_type": "markdown",
      "metadata": {
        "id": "pm8LQ8zPGomQ"
      },
      "source": [
        "## Task 9: Inference\n",
        "\n",
        "The output of networks need to process by a decoding step.\n",
        "\n",
        "- Greedy decode: Your task is to implement greedy decoding method. Which converts the output into a string of symbols and relations (same form with labels). Greedy decoder produce the best path by removing consecutive repeated symbols/relations and then remove \\<blank\\>\n",
        "\n",
        "> **TASK**: Implement the greedy decoder for the model output.\n",
        "\n",
        "Based on GreedyCTCDecoder class from this [link](https://pytorch.org/audio/main/tutorials/asr_inference_with_ctc_decoder_tutorial.html#greedy-decoder), write decoding for an output. Your implementation should handle the output of the model and convert it into a string of symbols and relations, ensuring to remove consecutive repeated symbols/relations and the blank token."
      ]
    },
    {
      "cell_type": "code",
      "execution_count": null,
      "metadata": {
        "id": "W_b6FuMoGomQ",
        "trusted": true
      },
      "outputs": [],
      "source": [
        "class GreedyCTCDecoder(torch.nn.Module):\n",
        "    def __init__(self, vocab):\n",
        "        super().__init__()\n",
        "        self.vocab = [char for char in vocab.char2idx.keys()]     # Grab list of vocabs (the keys of the dict)\n",
        "        self.blank = int(vocab.char2idx[\"\"])                      # Blank is the first elem of dict\n",
        "\n",
        "    def forward(self, emission: torch.Tensor) -> list:\n",
        "        \"\"\"Given a sequence emission over labels, get the best path\n",
        "        Args:\n",
        "          emission (Tensor): Logit tensors. Shape `[seq_len, num_label]`.\n",
        "\n",
        "        Returns:\n",
        "          list: The resulting transcript\n",
        "        \"\"\"\n",
        "        # TODO: implement the decoder (code from documentation)\n",
        "        indices = torch.argmax(emission, dim=-1)\n",
        "        indices = torch.unique_consecutive(indices, dim=-1)\n",
        "        indices = [i for i in indices if i != self.blank]\n",
        "        joined = \" \".join([self.vocab[i] for i in indices])\n",
        "        output_seq_list = joined.replace(\"|\", \" \").strip().split()\n",
        "        return output_seq_list"
      ]
    },
    {
      "cell_type": "markdown",
      "metadata": {
        "id": "job5znglGomQ"
      },
      "source": [
        "Then you can test the output of your model here"
      ]
    },
    {
      "cell_type": "code",
      "execution_count": null,
      "metadata": {
        "id": "vnGy07ShGomR",
        "trusted": true
      },
      "outputs": [],
      "source": [
        "device = torch.device('cuda' if torch.cuda.is_available() else 'cpu')\n",
        "\n",
        "model = MathOnlineModel.load_from_checkpoint(r\"wandb_logs\\math_online_2025\\ll1zayhv\\checkpoints\\epoch=26-val_wer=0.1401.ckpt\")\n",
        "model.to(device)\n",
        "model.eval()\n",
        "\n",
        "# Load vocabulary and decoder\n",
        "vocab = Vocab('vocab.json')\n",
        "greedy_decoder = GreedyCTCDecoder(vocab)\n",
        "\n",
        "dataset = InkmlDataset(f\"{ROOT_DIR}/crohme2019_test.txt\", ROOT_DIR, vocab)\n",
        "feature, label, input_len, label_len = dataset.__getitem__(0)\n",
        "\n",
        "# Extract some important data\n",
        "feature = feature.to(device)\n",
        "decoded_labels = vocab.decode(label.tolist())\n",
        "\n",
        "with torch.no_grad():\n",
        "    emission = model(feature.unsqueeze(0))\n",
        "\n",
        "# Decode the model output\n",
        "decoded_output = greedy_decoder.forward(emission[0])  # Pass the logits\n",
        "print(decoded_output)\n",
        "\n",
        "# possible output if your training work well\n",
        "# decoded -> ['\\\\phi', 'Right', '(', 'Right', '0', 'Right', '(', 'Right', 'n', 'Right', ')', 'Right', ')']\n"
      ]
    },
    {
      "cell_type": "markdown",
      "metadata": {
        "id": "x6ps24sSGomR"
      },
      "source": [
        "## Task 10: Implement calculation metric for training"
      ]
    },
    {
      "cell_type": "code",
      "execution_count": null,
      "metadata": {
        "id": "9aJFFU9mGomR",
        "trusted": true
      },
      "outputs": [],
      "source": [
        "def edit_distance(pred_seq: list, label_seq: list):\n",
        "    # TODO: implement Token Edit distance\n",
        "    m = len(pred_seq)\n",
        "    n = len(label_seq)\n",
        "\n",
        "    # Create a dp table to store results of subproblems\n",
        "    dp = [[0] * (n + 1) for _ in range(m + 1)]\n",
        "\n",
        "    # Base cases\n",
        "    for i in range(m + 1):\n",
        "        dp[i][0] = i\n",
        "    for j in range(n + 1):\n",
        "        dp[0][j] = j\n",
        "\n",
        "    # Fill the rest of dp[][]\n",
        "    for i in range(1, m + 1):\n",
        "        for j in range(1, n + 1):\n",
        "            if pred_seq[i - 1] == label_seq[j - 1]:\n",
        "                dp[i][j] = dp[i - 1][j - 1]\n",
        "            else:\n",
        "                dp[i][j] = 1 + min(dp[i][j - 1], dp[i - 1][j], dp[i - 1][j - 1])\n",
        "    return dp[m][n]\n",
        "\n",
        "\n",
        "wer = edit_distance(decoded_output, decoded_labels) / label_len.item()\n",
        "\n",
        "print(wer)\n",
        "# Test your implementation\n",
        "assert (\n",
        "    edit_distance(\n",
        "        [\n",
        "            \"\\\\phi\",\n",
        "            \"Right\",\n",
        "            \"(\",\n",
        "            \"Right\",\n",
        "            \"0\",\n",
        "            \"Right\",\n",
        "            \"(\",\n",
        "            \"Right\",\n",
        "            \"n\",\n",
        "            \"Right\",\n",
        "            \")\",\n",
        "            \"Right\",\n",
        "            \")\",\n",
        "        ],\n",
        "        [\n",
        "            \"\\\\phi\",\n",
        "            \"Right\",\n",
        "            \"(\",\n",
        "            \"Right\",\n",
        "            \"\\\\phi\",\n",
        "            \"Right\",\n",
        "            \"(\",\n",
        "            \"Right\",\n",
        "            \"n\",\n",
        "            \"Right\",\n",
        "            \")\",\n",
        "            \"Right\",\n",
        "            \")\",\n",
        "        ],\n",
        "    )\n",
        "    == 1\n",
        ")"
      ]
    },
    {
      "cell_type": "markdown",
      "metadata": {
        "id": "seSAUJUNGomR"
      },
      "source": [
        "> **TASK**: Implement word error rate metric (wer) for training,  validation and testing in your model.\n",
        ">\n",
        "> $wer = \\frac{total\\ edit\\ distance (predict\\ sequence,\\ target\\ sequence)}{total\\ target\\ sequence\\ length}$\n"
      ]
    },
    {
      "cell_type": "markdown",
      "metadata": {
        "id": "lGGm5JufGomR"
      },
      "source": [
        "**Steps to process:**\n",
        "\n",
        "- Decode the predicted sequences to obtain the text output.\n",
        "- Calculate the total edit distance between the predicted and target sequences.\n",
        "- Compute the word error rate using the formula provided.\n",
        "- Log the WER metric during training and validation.\n",
        "\n",
        "**Continue to train the model**\n",
        "\n",
        "- Load the latest trained model:\n",
        "\n",
        "```\n",
        "model = MathOnlineModel.load_from_checkpoint('path/to/your/checkpoint.ckpt')\n",
        "```\n",
        "- Change config of ModelCheckPoint to monitor the new metric (val_wer) instead.\n",
        "\n",
        "```\n",
        "        ModelCheckpoint(filename='{epoch}-{val_loss:.4f}', save_top_k=5, monitor='val_loss', mode='min')\n",
        "        \n",
        "      --> ModelCheckpoint(filename='{epoch}-{val_wer:.4f}', save_top_k=5, monitor='val_wer', mode='min'),\n",
        "\n",
        "```\n"
      ]
    },
    {
      "cell_type": "code",
      "execution_count": null,
      "metadata": {
        "id": "lnhFzr78r6AF"
      },
      "outputs": [],
      "source": [
        "'''BONUS 3: Visualize model prediction by timesteps and probability of softmax outputs'''\n",
        "# Prioritize GPU over CPU\n",
        "device = torch.device(\"cuda\" if torch.cuda.is_available() else \"cpu\")\n",
        "\n",
        "# Load model from checkpoint\n",
        "model = MathOnlineModel.load_from_checkpoint(\n",
        "    r\"wandb_logs\\math_online_2025\\ll1zayhv\\checkpoints\\epoch=26-val_wer=0.1401.ckpt\",\n",
        ")\n",
        "model.to(device)\n",
        "model.eval()\n",
        "\n",
        "# Prepare vocab and dataset\n",
        "vocab = Vocab(\"vocab.json\")\n",
        "dataset = InkmlDataset(f\"{ROOT_DIR}/crohme2019_test.txt\", ROOT_DIR, vocab)\n",
        "\n",
        "def plot_probs_over_time(sample_idx: int, tokens: list[str]):\n",
        "    \"\"\"\n",
        "    Plot the softmax probabilities for each token in `tokens` over the time dimension\n",
        "    for the example at index `sample_idx`.\n",
        "    \"\"\"\n",
        "    # Extract features and move to device\n",
        "    feature, _, _, _ = dataset[sample_idx]\n",
        "    x = feature.unsqueeze(0).to(device)  # Add new batch dimension with unsqueeze, now of shape (1, T, 4)\n",
        "\n",
        "    # Forward pass: get log-probs then convert to probabilities\n",
        "    with torch.no_grad():\n",
        "        probs = torch.softmax(model(x).squeeze(0), dim=-1).cpu().numpy()  # Remove batch dimension with squeeze (T, C). dim=-1 to target C (vocabulary)\n",
        "\n",
        "    # Plotting\n",
        "    timesteps = np.arange(probs.shape[0])          # Numpy array from 0 to (T-1)\n",
        "    plt.figure(figsize=(12, 6))\n",
        "\n",
        "    # Encode tokens into idx\n",
        "    encoded_tokens = vocab.encode(tokens)\n",
        "\n",
        "    # Plot\n",
        "    for idx in range(len(tokens)):\n",
        "        plt.plot(timesteps, probs[:, encoded_tokens[idx]], label=tokens[idx])\n",
        "\n",
        "    plt.xlabel(\"Time Step\")\n",
        "    plt.ylabel(\"Probability\")\n",
        "    plt.title(f\"Softmax Probabilities over Time (Sample {sample_idx})\")\n",
        "    plt.legend(loc=\"upper right\")\n",
        "    plt.tight_layout()\n",
        "    plt.show()\n",
        "\n",
        "# Example: visualize for tokens '0', '1', '\\sqrt', 'Sup' on sample #10\n",
        "plot_probs_over_time(0, ['2', '\\\\sqrt', 'Right'])"
      ]
    },
    {
      "cell_type": "markdown",
      "metadata": {
        "id": "o9YVut4FGomR"
      },
      "source": [
        "## **BONUS TASKS**\n",
        "\n",
        "The following tasks are optional and can be done for extra credit to the final exam.\n",
        "\n",
        "### **Bonus 1**: Add metric to evaluate accuracy of symbols and relations seperately *(+0.5pt)*\n",
        "\n",
        "**Add the metrics: wer for symbols and wer for relations**\n",
        "```\n",
        "self.log('wer_sym',...)\n",
        "self.log('wer_rel',...)\n",
        "```\n",
        "\n",
        "### **Bonus 2**: Modify loss function to constraint the output of relations at the time step of pen-up *(+1pt)*\n",
        "Modify loss function to constrain the output of relations at the timestep of pen-up.\n",
        "\n",
        "The idea: Provide a masked sequence such that the position of pen-up is masked, the additional loss would penaltize all the relations output to the timestep that has been masked.\n",
        "\n",
        "\n",
        "**Loss function to constraint relation output**\n",
        "\n",
        "```\n",
        "pen_down: a masked sequence, where len(pen_down) = len(input_sequence)\n",
        "        and pen_down[t] == 1 (pen down), pen_down[t] == 0 (pen up)\n",
        "p_rel: total probability of relation outputs for every time step t, len(p_rel) = len(input_sequence), p_rel[t] = sum(p[t][rel] for rel in ['Sub', 'Sup', 'Above', ...])\n",
        "\n",
        "The loss is defined as:\n",
        "\n",
        "    L_{constraint} = -log(1 - sum(p_rel * pen_down))\n",
        "    \n",
        "Explanation:\n",
        "\n",
        "    Minimize L_{constraint} (value range of (-inf, 0)) would make maximize of (1 - sum(p_rel * pen_down)), or making sum(p_rel * mask) -> 0, then it will penalize the relation output on pen_down timesteps.\n",
        "```\n",
        "\n",
        "**Apply constraint loss function with ctc loss**\n",
        "\n",
        "```\n",
        "    L = loss_{ctc} + \\lambda * L_{constraint}\n",
        "    \n",
        "where \\lambda is a weighted parameter to control balance between the two losses.\n",
        "   \n",
        "```\n",
        "\n",
        "\n",
        "You can also find it in a published paper here, section 3.4:\n",
        "https://arxiv.org/pdf/2105.10156\n",
        "\n",
        "### **Bonus 3**: Visualize model prediction by timesteps and probability of softmax outputs *(+0.5pt)*\n",
        "\n",
        "![alt text](https://github.com/fuisl/crohme-ctc/blob/6722b97ec2000afcd16068220f0b1b83b3134ff8/assets/graph_with_prob.png?raw=true)\n",
        "\n",
        "### **Bonus 4**: Use CUDA CTC Decoder to optimize decoding process in model *(+0.5pt)*\n",
        "\n",
        "Follow the instructions via this [link](https://pytorch.org/audio/main/tutorials/asr_inference_with_ctc_decoder_tutorial.html#cuda-ctc-decoder) to implement CUDA CTC decoder in your model."
      ]
    }
  ],
  "metadata": {
    "colab": {
      "collapsed_sections": [
        "ZGmVmcPDGomI",
        "JzRl-DlmGomL"
      ],
      "provenance": [],
      "include_colab_link": true
    },
    "kaggle": {
      "accelerator": "none",
      "dataSources": [
        {
          "datasetId": 5142469,
          "sourceId": 8596073,
          "sourceType": "datasetVersion"
        }
      ],
      "dockerImageVersionId": 31012,
      "isGpuEnabled": false,
      "isInternetEnabled": true,
      "language": "python",
      "sourceType": "notebook"
    },
    "kernelspec": {
      "display_name": ".venv",
      "language": "python",
      "name": "python3"
    },
    "language_info": {
      "codemirror_mode": {
        "name": "ipython",
        "version": 3
      },
      "file_extension": ".py",
      "mimetype": "text/x-python",
      "name": "python",
      "nbconvert_exporter": "python",
      "pygments_lexer": "ipython3",
      "version": "3.12.0"
    }
  },
  "nbformat": 4,
  "nbformat_minor": 0
}